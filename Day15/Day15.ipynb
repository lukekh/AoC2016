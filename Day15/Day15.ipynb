{
 "cells": [
  {
   "cell_type": "markdown",
   "id": "0dd16534-cc48-4a64-a9d5-5f68bcd650df",
   "metadata": {},
   "source": [
    "# Day 15: Timing is Everything\n",
    "\n",
    "## Part One\n",
    "\n",
    "The halls open into an interior plaza containing a large kinetic sculpture. The sculpture is in a sealed enclosure and seems to involve a set of identical spherical capsules that are carried to the top and allowed to bounce through the maze of spinning pieces.\n",
    "\n",
    "Part of the sculpture is even interactive! When a button is pressed, a capsule is dropped and tries to fall through slots in a set of rotating discs to finally go through a little hole at the bottom and come out of the sculpture. If any of the slots aren't aligned with the capsule as it passes, the capsule bounces off the disc and soars away. You feel compelled to get one of those capsules.\n",
    "\n",
    "The discs pause their motion each second and come in different sizes; they seem to each have a fixed number of positions at which they stop. You decide to call the position with the slot `0`, and count up for each position it reaches next.\n",
    "\n",
    "Furthermore, the discs are spaced out so that after you push the button, one second elapses before the first disc is reached, and one second elapses as the capsule passes from one disc to the one below it. So, if you push the button at `time=100`, then the capsule reaches the top disc at `time=101`, the second disc at `time=102`, the third disc at `time=103`, and so on.\n",
    "\n",
    "The button will only drop a capsule at an integer time - no fractional seconds allowed.\n",
    "\n",
    "For example, at `time=0`, suppose you see the following arrangement:\n",
    "\n",
    "* `Disc #1` has `5` positions; at `time=0`, it is at position `4`.\n",
    "\n",
    "* `Disc #2` has `2` positions; at `time=0`, it is at position `1`.\n",
    "\n",
    "If you press the button exactly at `time=0`, the capsule would start to fall; it would reach the first disc at `time=1`. Since the first disc was at position `4` at `time=0`, by `time=1` it has ticked one position forward. As a five-position disc, the next position is `0`, and the capsule falls through the slot.\n",
    "\n",
    "Then, at `time=2`, the capsule reaches the second disc. The second disc has ticked forward two positions at this point: it started at position `1`, then continued to position `0`, and finally ended up at position `1` again. Because there's only a slot at position `0`, the capsule bounces away.\n",
    "\n",
    "If, however, you wait until `time=5` to push the button, then when the capsule reaches each disc, the first disc will have ticked forward `5+1 = 6 times` (to position `0`), and the second disc will have ticked forward `5+2 = 7` times (also to position `0`). In this case, the capsule would fall through the discs and come out of the machine.\n",
    "\n",
    "However, your situation has more than two discs; you've noted their positions in your puzzle input. What is the first time you can press the button to get a capsule?\n",
    "\n",
    "---"
   ]
  },
  {
   "cell_type": "code",
   "execution_count": 1,
   "id": "921261f8-1c00-4391-a228-eac6df97aeb3",
   "metadata": {},
   "outputs": [],
   "source": [
    "import re\n",
    "\n",
    "# Initialise\n",
    "re_nums = r'\\d+'\n",
    "find = lambda s: tuple([int(arg) for arg in re.findall(re_nums, s)])\n",
    "\n",
    "# This will look like inputs[i] = (number of positions, time, position) for disc i\n",
    "inputs = {\n",
    "    find(i)[0]: find(i)[1:] for i in open('Day15.in').readlines()\n",
    "}"
   ]
  },
  {
   "cell_type": "code",
   "execution_count": 2,
   "id": "7873223f-9472-4ce6-8309-5af2662e2106",
   "metadata": {},
   "outputs": [
    {
     "name": "stdout",
     "output_type": "stream",
     "text": [
      "The first time you can press the button to get a capsule is at t=121,834.\n"
     ]
    }
   ],
   "source": [
    "# Initialise starting variables\n",
    "t = 0\n",
    "first_time = None\n",
    "order = [j[0] for j in sorted([(i, inputs[i][0]) for i in inputs], key=lambda x: -x[1])]\n",
    "\n",
    "# Checks if the capsule clears disc n\n",
    "check = lambda n, t: not ((inputs[n][2] + n + t) % inputs[n][0])\n",
    "\n",
    "def recursive_check(t, *checks, last=None):\n",
    "    \"\"\"\n",
    "    Recursicely check to substitute nested if statements\n",
    "    \"\"\"\n",
    "    if check(checks[0], t):\n",
    "        if checks[1:]:\n",
    "            return recursive_check(t, *checks[1:], last = checks[0])\n",
    "        else:\n",
    "            return True, t\n",
    "    else:\n",
    "        if last:\n",
    "            return False, t + inputs[last][0]\n",
    "        else:\n",
    "            return False, t + 1\n",
    "\n",
    "# Solution\n",
    "while first_time is None:\n",
    "    b, t = recursive_check(t, *order)\n",
    "    if b:\n",
    "        first_time = t\n",
    "        print(f\"The first time you can press the button to get a capsule is at t={first_time:,}.\")"
   ]
  },
  {
   "cell_type": "markdown",
   "id": "fbf81abf-09b3-478e-bbc0-22db7743ca99",
   "metadata": {},
   "source": [
    "---\n",
    "\n",
    "## Part Two\n",
    "\n",
    "After getting the first capsule (it contained a star! what great fortune!), the machine detects your success and begins to rearrange itself.\n",
    "\n",
    "When it's done, the discs are back in their original configuration as if it were `time=0` again, but a new disc with `11` positions and starting at position `0` has appeared exactly one second below the previously-bottom disc.\n",
    "\n",
    "With this new disc, and counting again starting from `time=0` with the configuration in your puzzle input, what is the first time you can press the button to get another capsule?\n",
    "\n",
    "---"
   ]
  },
  {
   "cell_type": "code",
   "execution_count": 3,
   "id": "d1d04257-4140-48bf-b587-d132c589ad19",
   "metadata": {},
   "outputs": [
    {
     "name": "stdout",
     "output_type": "stream",
     "text": [
      "The first time you can press the button to get a capsule is at t=3,208,099.\n"
     ]
    }
   ],
   "source": [
    "# Add extra disc\n",
    "inputs[7] = (11, 0, 0)\n",
    "\n",
    "# Re-initialise\n",
    "first_time = None\n",
    "t = 0\n",
    "order = [j[0] for j in sorted([(i, inputs[i][0]) for i in inputs], key=lambda x: -x[1])]\n",
    "\n",
    "while first_time is None:\n",
    "    b, t = recursive_check(t, *order)\n",
    "    if b:\n",
    "        first_time = t\n",
    "        print(f\"The first time you can press the button to get a capsule is at t={first_time:,}.\")"
   ]
  },
  {
   "cell_type": "markdown",
   "id": "4e10b999-f6b6-4672-83d0-fb1d732b0f73",
   "metadata": {},
   "source": [
    "---"
   ]
  }
 ],
 "metadata": {
  "kernelspec": {
   "display_name": "Python 3",
   "language": "python",
   "name": "python3"
  },
  "language_info": {
   "codemirror_mode": {
    "name": "ipython",
    "version": 3
   },
   "file_extension": ".py",
   "mimetype": "text/x-python",
   "name": "python",
   "nbconvert_exporter": "python",
   "pygments_lexer": "ipython3",
   "version": "3.8.2"
  }
 },
 "nbformat": 4,
 "nbformat_minor": 5
}
