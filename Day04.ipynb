{
 "cells": [
  {
   "cell_type": "markdown",
   "id": "fa6a7453-16e3-4134-88b9-831bd3a2f706",
   "metadata": {},
   "source": [
    "# Day 4: Security Through Obscurity\n",
    "## Part One:\n",
    "\n",
    "Finally, you come across an information kiosk with a list of rooms. Of course, the list is encrypted and full of decoy data, but the instructions to decode the list are barely hidden nearby. Better remove the decoy data first.\n",
    "\n",
    "Each room consists of an encrypted name (lowercase letters separated by dashes) followed by a dash, a sector ID, and a checksum in square brackets.\n",
    "\n",
    "A room is real (not a decoy) if the checksum is the five most common letters in the encrypted name, in order, with ties broken by alphabetization. For example:\n",
    "\n",
    "* `aaaaa-bbb-z-y-x-123[abxyz]` is a real room because the most common letters are `a` (5), `b` (3), and then a tie between `x`, `y`, and `z`, which are listed alphabetically.\n",
    "\n",
    "* `a-b-c-d-e-f-g-h-987[abcde]` is a real room because although the letters are all tied (1 of each), the first five are listed alphabetically.\n",
    "\n",
    "* `not-a-real-room-404[oarel]` is a real room.\n",
    "\n",
    "* `totally-real-room-200[decoy]` is not.\n",
    "\n",
    "Of the real rooms from the list above, the sum of their sector IDs is `1514`.\n",
    "\n",
    "What is the sum of the sector IDs of the real rooms?\n",
    "\n",
    "---"
   ]
  },
  {
   "cell_type": "code",
   "execution_count": 1,
   "id": "fe447fd1-90f6-4c17-923e-d99e082fe179",
   "metadata": {},
   "outputs": [],
   "source": [
    "inputs = [i[:-1] for i in open('Day04.in').readlines()]"
   ]
  },
  {
   "cell_type": "code",
   "execution_count": 2,
   "id": "ed6a8102-2b23-49af-bfcc-ace1f9cbce13",
   "metadata": {},
   "outputs": [
    {
     "name": "stdout",
     "output_type": "stream",
     "text": [
      "The sum of the sector IDs of the real rooms is 137,896.\n"
     ]
    }
   ],
   "source": [
    "def code_check(string):\n",
    "    *code, sector = string.split('[')[0].split('-')\n",
    "    checksum = string.split('[')[1].replace(']', '')\n",
    "    \n",
    "    code = ''.join(code)\n",
    "    \n",
    "    d = sorted([\n",
    "        (char, code.count(char)) for char in set(code)\n",
    "    ], key = lambda x: (-x[1], x[0])\n",
    "    )\n",
    "    \n",
    "    return code, int(sector), checksum, checksum == ''.join([i[0] for i in d[:5]])\n",
    "\n",
    "real_rooms = [i for i in inputs if code_check(i)[-1]]\n",
    "\n",
    "print(f\"The sum of the sector IDs of the real rooms is {sum([code_check(i)[1] for i in real_rooms]):,}.\")"
   ]
  },
  {
   "cell_type": "markdown",
   "id": "9770dbe5-718b-4ed7-8267-e2599713292f",
   "metadata": {},
   "source": [
    "---\n",
    "\n",
    "## Part Two:\n",
    "\n",
    "With all the decoy data out of the way, it's time to decrypt this list and get moving.\n",
    "\n",
    "The room names are encrypted by a state-of-the-art shift cipher, which is nearly unbreakable without the right software. However, the information kiosk designers at Easter Bunny HQ were not expecting to deal with a master cryptographer like yourself.\n",
    "\n",
    "To decrypt a room name, rotate each letter forward through the alphabet a number of times equal to the room's sector ID. `A` becomes `B`, `B` becomes `C`, `Z` becomes `A`, and so on. Dashes become spaces.\n",
    "\n",
    "For example, the real name for `qzmt-zixmtkozy-ivhz-343` is very encrypted name.\n",
    "\n",
    "What is the sector ID of the room where North Pole objects are stored?\n",
    "\n",
    "---"
   ]
  },
  {
   "cell_type": "code",
   "execution_count": 3,
   "id": "541fdaad-7656-40ee-aac9-66c40854875f",
   "metadata": {},
   "outputs": [
    {
     "name": "stdout",
     "output_type": "stream",
     "text": [
      "Candidates:\n",
      "    * Decrypted: northpole object storage, Sector: 501\n"
     ]
    }
   ],
   "source": [
    "# Simple Caesar cypher that takes n and returns a function that will encrypt a string\n",
    "caesar = lambda n: lambda string: ''.join([chr(((ord(c) + n - ord('a')) % 26) + ord('a')) for c in string])\n",
    "\n",
    "def decypher(string):\n",
    "    \"\"\"\n",
    "    Takes string and returns decyphered code as well as integer\n",
    "    \"\"\"\n",
    "    *code, sector = string.split('[')[0].split('-')\n",
    "    checksum = string.split('[')[1].replace(']', '')\n",
    "    \n",
    "    decyphered_code = ' '.join([caesar(int(sector))(i) for i in code])\n",
    "    \n",
    "    return decyphered_code, int(sector)\n",
    "\n",
    "# Not sure how \"North Pole objects\" will be encrypted so just print out everything with North in it...\n",
    "print(\"Candidates:\")\n",
    "for code in real_rooms:\n",
    "    name, sector = decypher(code)\n",
    "    if 'north' in name:\n",
    "        print(f\"    * Decrypted: {name}, Sector: {sector}\")"
   ]
  },
  {
   "cell_type": "markdown",
   "id": "1880bb8d-24e3-434c-b491-b42e7a0f43e6",
   "metadata": {},
   "source": [
    "---"
   ]
  }
 ],
 "metadata": {
  "kernelspec": {
   "display_name": "Python 3",
   "language": "python",
   "name": "python3"
  },
  "language_info": {
   "codemirror_mode": {
    "name": "ipython",
    "version": 3
   },
   "file_extension": ".py",
   "mimetype": "text/x-python",
   "name": "python",
   "nbconvert_exporter": "python",
   "pygments_lexer": "ipython3",
   "version": "3.8.2"
  }
 },
 "nbformat": 4,
 "nbformat_minor": 5
}
