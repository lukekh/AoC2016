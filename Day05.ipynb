{
 "cells": [
  {
   "cell_type": "markdown",
   "id": "116899a4-234a-4f9a-9cde-45d08e18c4a2",
   "metadata": {},
   "source": [
    "# Day 5: How About a Nice Game of Chess?\n",
    "\n",
    "## Part One\n",
    "\n",
    "You are faced with a security door designed by Easter Bunny engineers that seem to have acquired most of their security knowledge by watching hacking movies.\n",
    "\n",
    "The eight-character password for the door is generated one character at a time by finding the MD5 hash of some Door ID (your puzzle input) and an increasing integer index (starting with `0`).\n",
    "\n",
    "A hash indicates the next character in the password if its hexadecimal representation starts with five zeroes. If it does, the sixth character in the hash is the next character of the password.\n",
    "\n",
    "For example, if the Door ID is `abc`:\n",
    "\n",
    "* The first index which produces a hash that starts with five zeroes is `3231929`, which we find by hashing `abc3231929`; the sixth character of the hash, and thus the first character of the password, is `1`.\n",
    "\n",
    "* `5017308` produces the next interesting hash, which starts with `000008f82...`, so the second character of the password is `8`.\n",
    "\n",
    "* The third time a hash starts with five zeroes is for `abc5278568`, discovering the character `f`.\n",
    "\n",
    "In this example, after continuing this search a total of eight times, the password is `18f47a30`.\n",
    "\n",
    "Given the actual Door ID, what is the password?\n",
    "\n",
    "---"
   ]
  },
  {
   "cell_type": "code",
   "execution_count": 1,
   "id": "75272fa3-aa6a-47e4-b7fe-0b622284580f",
   "metadata": {},
   "outputs": [],
   "source": [
    "# Initialise\n",
    "from hashlib import md5\n",
    "encoding = 'utf-8'\n",
    "idx = 0\n",
    "inputs = open('Day05.in').read()[:-1]"
   ]
  },
  {
   "cell_type": "code",
   "execution_count": 2,
   "id": "6dea253d-90c3-49b2-a5af-c1feaf346402",
   "metadata": {},
   "outputs": [
    {
     "name": "stdout",
     "output_type": "stream",
     "text": [
      "The password is c6697b55.\n"
     ]
    }
   ],
   "source": [
    "# This will quickly perform the md5 hash and return a string\n",
    "h = lambda x: md5(x.encode(encoding)).hexdigest()\n",
    "\n",
    "# Make a generator for the password\n",
    "def password(door_id, index=0, digits=8):\n",
    "    \"\"\"\n",
    "    Given a door_id will find the digits of the password.\n",
    "    \"\"\"\n",
    "    count = 0\n",
    "    \n",
    "    while count < digits:\n",
    "        index += 1\n",
    "        \n",
    "        if (k := h(str(door_id) + str(index)))[:5] == '00000':\n",
    "            count += 1\n",
    "            yield k[5]\n",
    "\n",
    "# Print answer\n",
    "print(f\"The password is {''.join([p for p in password(inputs)])}.\")"
   ]
  },
  {
   "cell_type": "markdown",
   "id": "122317a1-4866-418a-9076-278e9e0a5daf",
   "metadata": {},
   "source": [
    "---\n",
    "\n",
    "## Part Two\n",
    "\n",
    "As the door slides open, you are presented with a second door that uses a slightly more inspired security mechanism. Clearly unimpressed by the last version (in what movie is the password decrypted in order?!), the Easter Bunny engineers have worked out a better solution.\n",
    "\n",
    "Instead of simply filling in the password from left to right, the hash now also indicates the position within the password to fill. You still look for hashes that begin with five zeroes; however, now, the sixth character represents the position (`0`-`7`), and the seventh character is the character to put in that position.\n",
    "\n",
    "A hash result of `000001f` means that `f` is the second character in the password. Use only the first result for each position, and ignore invalid positions.\n",
    "\n",
    "For example, if the Door ID is `abc`:\n",
    "\n",
    "The first interesting hash is from `abc3231929`, which produces `0000015...`; so, `5` goes in position `1`: `_5______`.\n",
    "In the previous method, `5017308` produced an interesting hash; however, it is ignored, because it specifies an invalid position (`8`).\n",
    "The second interesting hash is at index `5357525`, which produces `000004e...`; so, `e` goes in position `4`: `_5__e___`.\n",
    "You almost choke on your popcorn as the final character falls into place, producing the password `05ace8e3`.\n",
    "\n",
    "Given the actual Door ID and this new method, what is the password? Be extra proud of your solution if it uses a cinematic \"decrypting\" animation.\n",
    "\n",
    "---"
   ]
  },
  {
   "cell_type": "code",
   "execution_count": 3,
   "id": "1534c0dc-4fc1-4114-ac3a-9b3824f35fd8",
   "metadata": {},
   "outputs": [],
   "source": [
    "# Import extra packages for cool animation\n",
    "from IPython.display import clear_output, display\n",
    "import random\n",
    "import time"
   ]
  },
  {
   "cell_type": "code",
   "execution_count": 4,
   "id": "a725b645-4e23-455a-8c85-69f243fc4bf4",
   "metadata": {},
   "outputs": [
    {
     "name": "stdout",
     "output_type": "stream",
     "text": [
      "The password is 8c35d1ab.\n"
     ]
    }
   ],
   "source": [
    "# This helper function will make it easier to generate the animation\n",
    "rand_letters = [*range(32, 127), *range(161, 172), *range(174,400)]\n",
    "letter = lambda l: str(l) if l is not None else \"\\x1b[31m\"+ chr(random.choice(rand_letters)) + \"\\x1b[0m\"\n",
    "\n",
    "# This will solve the problem\n",
    "def find_password(door_id, index=0):\n",
    "    \"\"\"\n",
    "    Given a door ID this will solve part two with a cool animation.\n",
    "    \"\"\"\n",
    "    # Initialise dict and time\n",
    "    d = dict(zip(range(8), (None,)*8))\n",
    "    t = time.time()\n",
    "    \n",
    "    # Check if dict is full\n",
    "    while not all(d.values()):\n",
    "        # Increment index\n",
    "        index += 1\n",
    "        \n",
    "        # If the hash meets the requirement and the dictionary is not already occupied\n",
    "        # put the value into the dictionary\n",
    "        if (k := h(str(door_id) + str(index)))[:5] == '00000':\n",
    "            if '0' <= k[5] <= '7':\n",
    "                if d[int(k[5])] is None:\n",
    "                    d[int(k[5])] = k[6]\n",
    "        \n",
    "        # Every now and again update the display\n",
    "        if time.time() - t > 0.1:\n",
    "            t = time.time()\n",
    "            clear_output(wait=True)\n",
    "            password = [letter(d[i]) for i in range(8)]\n",
    "            print(f\"The password is {''.join([p for p in password])}.\")\n",
    "    \n",
    "    # One final display after problem is solved\n",
    "    clear_output(wait=True)\n",
    "    password = [letter(d[i]) for i in range(8)]\n",
    "    print(f\"The password is {''.join([p for p in password])}.\")\n",
    "\n",
    "\n",
    "# Solve part two\n",
    "find_password(inputs)"
   ]
  },
  {
   "cell_type": "markdown",
   "id": "65bc9187-9999-426d-83fe-3c0de7d134df",
   "metadata": {},
   "source": [
    "---"
   ]
  }
 ],
 "metadata": {
  "kernelspec": {
   "display_name": "Python 3",
   "language": "python",
   "name": "python3"
  },
  "language_info": {
   "codemirror_mode": {
    "name": "ipython",
    "version": 3
   },
   "file_extension": ".py",
   "mimetype": "text/x-python",
   "name": "python",
   "nbconvert_exporter": "python",
   "pygments_lexer": "ipython3",
   "version": "3.8.2"
  }
 },
 "nbformat": 4,
 "nbformat_minor": 5
}
