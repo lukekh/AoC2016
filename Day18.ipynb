{
 "cells": [
  {
   "cell_type": "markdown",
   "id": "6d3f7018-e7bb-4ac7-b3ef-55dc1322445a",
   "metadata": {},
   "source": [
    "# Day 18: Like a Rogue\n",
    "\n",
    "## Part One\n",
    "\n",
    "As you enter this room, you hear a loud click! Some of the tiles in the floor here seem to be pressure plates for traps, and the trap you just triggered has run out of... whatever it tried to do to you. You doubt you'll be so lucky next time.\n",
    "\n",
    "Upon closer examination, the traps and safe tiles in this room seem to follow a pattern. The tiles are arranged into rows that are all the same width; you take note of the safe tiles (`.`) and traps (`^`) in the first row (your puzzle input).\n",
    "\n",
    "The type of tile (trapped or safe) in each row is based on the types of the tiles in the same position, and to either side of that position, in the previous row. (If either side is off either end of the row, it counts as \"safe\" because there isn't a trap embedded in the wall.)\n",
    "\n",
    "For example, suppose you know the first row (with tiles marked by letters) and want to determine the next row (with tiles marked by numbers):\n",
    "\n",
    "```\n",
    "ABCDE\n",
    "12345\n",
    "```\n",
    "\n",
    "The type of tile `2` is based on the types of tiles `A`, `B`, and `C`; the type of tile `5` is based on tiles `D`, `E`, and an imaginary \"safe\" tile. Let's call these three tiles from the previous row the left, center, and right tiles, respectively. Then, a new tile is a trap only in one of the following situations:\n",
    "\n",
    "* Its left and center tiles are traps, but its right tile is not.\n",
    "\n",
    "* Its center and right tiles are traps, but its left tile is not.\n",
    "\n",
    "* Only its left tile is a trap.\n",
    "\n",
    "* Only its right tile is a trap.\n",
    "\n",
    "In any other situation, the new tile is safe.\n",
    "\n",
    "Then, starting with the row `..^^.`, you can determine the next row by applying those rules to each new tile:\n",
    "\n",
    "* The leftmost character on the next row considers the left (nonexistent, so we assume \"safe\"), center (the first `.`, which means \"safe\"), and right (the second `.`, also \"safe\") tiles on the previous row. Because all of the trap rules require a trap in at least one of the previous three tiles, the first tile on this new row is also safe, `.`.\n",
    "\n",
    "* The second character on the next row considers its left (`.`), center (`.`), and right (`^`) tiles from the previous row. This matches the fourth rule: only the right tile is a trap. Therefore, the next tile in this new row is a trap, `^`.\n",
    "\n",
    "* The third character considers `.^^`, which matches the second trap rule: its center and right tiles are traps, but its left tile is not. Therefore, this tile is also a trap, `^`.\n",
    "\n",
    "* The last two characters in this new row match the first and third rules, respectively, and so they are both also traps, `^`.\n",
    "\n",
    "After these steps, we now know the next row of tiles in the room: `.^^^^`. Then, we continue on to the next row, using the same rules, and get `^^..^`. After determining two new rows, our map looks like this:\n",
    "```\n",
    "..^^.\n",
    ".^^^^\n",
    "^^..^\n",
    "```\n",
    "\n",
    "Here's a larger example with ten tiles per row and ten rows:\n",
    "```\n",
    ".^^.^.^^^^\n",
    "^^^...^..^\n",
    "^.^^.^.^^.\n",
    "..^^...^^^\n",
    ".^^^^.^^.^\n",
    "^^..^.^^..\n",
    "^^^^..^^^.\n",
    "^..^^^^.^^\n",
    ".^^^..^.^^\n",
    "^^.^^^..^^\n",
    "```\n",
    "\n",
    "In ten rows, this larger example has `38` safe tiles.\n",
    "\n",
    "Starting with the map in your puzzle input, in a total of `40` rows (including the starting row), how many safe tiles are there?\n",
    "\n",
    "---"
   ]
  },
  {
   "cell_type": "code",
   "execution_count": 1,
   "id": "6022b234-f755-4709-b942-b1e329ad1041",
   "metadata": {},
   "outputs": [],
   "source": [
    "inputs = open('Day18.in').read()[:-1]"
   ]
  },
  {
   "cell_type": "code",
   "execution_count": 2,
   "id": "9e08254f-2967-42fa-81e3-947b592bcb98",
   "metadata": {},
   "outputs": [],
   "source": [
    "safety = lambda L, M, R : '^' if (L==M)^(M==R) else '.'\n",
    "\n",
    "def next_row(s):\n",
    "    s = '.' + s + '.'\n",
    "    return ''.join([safety(*s[i-1:i+2]) for i in range(1, len(s)-1)])\n",
    "\n",
    "def complete_map(s, n=40):\n",
    "    if n == 1:\n",
    "        return s\n",
    "    else:\n",
    "        return complete_map(s + '\\n' + next_row(s.split('\\n')[-1]), n-1)"
   ]
  },
  {
   "cell_type": "code",
   "execution_count": 3,
   "id": "d612732a-acae-41e5-968c-cb8e2385eda0",
   "metadata": {},
   "outputs": [
    {
     "name": "stdout",
     "output_type": "stream",
     "text": [
      "There are 1,913 safe tiles.\n"
     ]
    }
   ],
   "source": [
    "print(f\"There are {complete_map(inputs).count('.'):,} safe tiles.\")"
   ]
  },
  {
   "cell_type": "markdown",
   "id": "fd9bb571-81d3-4773-a0d6-397739d7c6fb",
   "metadata": {},
   "source": [
    "---\n",
    "\n",
    "## Part Two\n",
    "\n",
    "How many safe tiles are there in a total of `400000` rows?\n",
    "\n",
    "---"
   ]
  },
  {
   "cell_type": "code",
   "execution_count": 4,
   "id": "f4884ad6-11ac-4534-b5cd-8f5cf278f62f",
   "metadata": {},
   "outputs": [],
   "source": [
    "def count_safe_tiles(s, count=0, n=400_000):\n",
    "    count = s.count('.')\n",
    "    while n > 1:\n",
    "        s =  next_row(s)\n",
    "        count += s.count('.')\n",
    "        n -= 1\n",
    "    return count"
   ]
  },
  {
   "cell_type": "code",
   "execution_count": 5,
   "id": "849200af-7607-40df-9fa2-c4b87bbc7de0",
   "metadata": {},
   "outputs": [
    {
     "name": "stdout",
     "output_type": "stream",
     "text": [
      "There are 19,993,564 safe tiles.\n"
     ]
    }
   ],
   "source": [
    "print(f\"There are {count_safe_tiles(inputs):,} safe tiles.\")"
   ]
  },
  {
   "cell_type": "markdown",
   "id": "4145ca88-4b15-4b59-81bf-96434faf946a",
   "metadata": {},
   "source": [
    "---"
   ]
  }
 ],
 "metadata": {
  "kernelspec": {
   "display_name": "Python 3",
   "language": "python",
   "name": "python3"
  },
  "language_info": {
   "codemirror_mode": {
    "name": "ipython",
    "version": 3
   },
   "file_extension": ".py",
   "mimetype": "text/x-python",
   "name": "python",
   "nbconvert_exporter": "python",
   "pygments_lexer": "ipython3",
   "version": "3.8.2"
  }
 },
 "nbformat": 4,
 "nbformat_minor": 5
}
