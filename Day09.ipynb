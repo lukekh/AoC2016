{
 "cells": [
  {
   "cell_type": "markdown",
   "id": "b51427cf-6285-42fe-a2d4-855caa791ff6",
   "metadata": {},
   "source": [
    "# Day 9: Explosives in Cyberspace\n",
    "\n",
    "## Part One\n",
    "\n",
    "Wandering around a secure area, you come across a datalink port to a new part of the network. After briefly scanning it for interesting files, you find one file in particular that catches your attention. It's compressed with an experimental format, but fortunately, the documentation for the format is nearby.\n",
    "\n",
    "The format compresses a sequence of characters. Whitespace is ignored. To indicate that some sequence should be repeated, a marker is added to the file, like `(10x2)`. To decompress this marker, take the subsequent `10` characters and repeat them `2` times. Then, continue reading the file after the repeated data. The marker itself is not included in the decompressed output.\n",
    "\n",
    "If parentheses or other characters appear within the data referenced by a marker, that's okay - treat it like normal data, not a marker, and then resume looking for markers after the decompressed section.\n",
    "\n",
    "For example:\n",
    "\n",
    "* `ADVENT` contains no markers and decompresses to itself with no changes, resulting in a decompressed length of 6.\n",
    "\n",
    "* `A(1x5)BC` repeats only the `B` a total of 5 times, becoming `ABBBBBC` for a decompressed length of 7.\n",
    "\n",
    "* `(3x3)XYZ` becomes `XYZXYZXYZ` for a decompressed length of 9.\n",
    "\n",
    "* `A(2x2)BCD(2x2)EFG` doubles the `BC` and `EF`, becoming `ABCBCDEFEFG` for a decompressed length of 11.\n",
    "\n",
    "* `(6x1)(1x3)A` simply becomes `(1x3)A` - the `(1x3)` looks like a marker, but because it's within a data section of another marker, it is not treated any differently from the `A` that comes after it. It has a decompressed length of 6.\n",
    "\n",
    "* `X(8x2)(3x3)ABCY` becomes `X(3x3)ABC(3x3)ABCY` (for a decompressed length of 18), because the decompressed data from the `(8x2)` marker (the (3x3)ABC) is skipped and not processed further.\n",
    "\n",
    "What is the decompressed length of the file (your puzzle input)? Don't count whitespace.\n",
    "\n",
    "---"
   ]
  },
  {
   "cell_type": "code",
   "execution_count": 1,
   "id": "22536e1b-10a1-40d5-a2e6-78e7b871cc82",
   "metadata": {},
   "outputs": [],
   "source": [
    "# Initialise\n",
    "import re\n",
    "inputs = open('Day09.in').read()[:-1]"
   ]
  },
  {
   "cell_type": "code",
   "execution_count": 2,
   "id": "c13c6f01-354d-4e78-bb4e-4b8300427a6a",
   "metadata": {},
   "outputs": [
    {
     "name": "stdout",
     "output_type": "stream",
     "text": [
      "There are 115,118 characters after decompressing the file.\n"
     ]
    }
   ],
   "source": [
    "# Regex patter for decompression markers (anchored to beginning of string)\n",
    "re_Compress = r'^\\((\\d+)x(\\d+)\\)'\n",
    "\n",
    "def decompress(compressed, decompressed='', pattern=re_Compress):\n",
    "    \"\"\"\n",
    "    This function takes the string and decompresses it recursively.\n",
    "    Returns the decompressed string.\n",
    "    \"\"\"\n",
    "    # Base case (markers are at least 5 characters)\n",
    "    if len(compressed) < 5:\n",
    "        return decompressed + compressed\n",
    "    \n",
    "    # Search for pattern in compressed string\n",
    "    if (r:= re.search(re_Compress, compressed)):\n",
    "        # Delete marker, decompress and append text, delete compressed text\n",
    "        compressed = compressed[len(r[0]):]\n",
    "        decompressed += compressed[:int(r[1])]*int(r[2])\n",
    "        compressed = compressed[int(r[1]):]\n",
    "        # Recursively decompress\n",
    "        return decompress(compressed, decompressed, pattern=re_Compress)\n",
    "    else:\n",
    "        # Text up until the next marker doesn't need decompression\n",
    "        try:\n",
    "            idx = compressed.index('(')\n",
    "        except ValueError:\n",
    "            return decompressed + compressed\n",
    "        # Continue decompressing\n",
    "        return decompress(compressed[idx:], decompressed + compressed[:idx], pattern=re_Compress)\n",
    "\n",
    "print(f\"There are {len(decompress(inputs)):,} characters after decompressing the file.\")"
   ]
  },
  {
   "cell_type": "markdown",
   "id": "45ab8fda-797e-4aa6-a4ff-cd12188a6247",
   "metadata": {},
   "source": [
    "---\n",
    "\n",
    "## Part Two\n",
    "\n",
    "Apparently, the file actually uses version two of the format.\n",
    "\n",
    "In version two, the only difference is that markers within decompressed data are decompressed. This, the documentation explains, provides much more substantial compression capabilities, allowing many-gigabyte files to be stored in only a few kilobytes.\n",
    "\n",
    "For example:\n",
    "\n",
    "* `(3x3)XYZ` still becomes `XYZXYZXYZ`, as the decompressed section contains no markers.\n",
    "\n",
    "* `X(8x2)(3x3)ABCY` becomes `XABCABCABCABCABCABCY`, because the decompressed data from the `(8x2)` marker is then further decompressed, thus triggering the `(3x3)` marker twice for a total of six `ABC` sequences.\n",
    "\n",
    "* `(27x12)(20x12)(13x14)(7x10)(1x12)A` decompresses into a string of A repeated 241920 times.\n",
    "\n",
    "* `(25x3)(3x3)ABC(2x3)XY(5x2)PQRSTX(18x9)(3x2)TWO(5x7)SEVEN` becomes 445 characters long.\n",
    "\n",
    "Unfortunately, the computer you brought probably doesn't have enough memory to actually decompress the file; you'll have to come up with another way to get its decompressed length.\n",
    "\n",
    "What is the decompressed length of the file using this improved format?\n",
    "\n",
    "---"
   ]
  },
  {
   "cell_type": "code",
   "execution_count": 3,
   "id": "f3b56222-ba7d-4261-8212-b7a12011efd1",
   "metadata": {},
   "outputs": [
    {
     "name": "stdout",
     "output_type": "stream",
     "text": [
      "There are 11,107,527,530 characters after decompressing the file.\n"
     ]
    }
   ],
   "source": [
    "def decompressed_length(compressed, decompressed=0, pattern=re_Compress):\n",
    "    \"\"\"\n",
    "    This function takes the string and finds the length of the decompressed text.\n",
    "    Basically the same as above, but only keeps track of the decompressed length \n",
    "    as an integer.\n",
    "    \"\"\"\n",
    "    # Base case (markers are at least 5 characters)\n",
    "    if len(compressed) < 5:\n",
    "        return decompressed + len(compressed)\n",
    "    \n",
    "    # Search for pattern in compressed string\n",
    "    if (r:= re.search(re_Compress, compressed)):\n",
    "        # Delete marker, add to decompressed length, delete compressed text\n",
    "        compressed = compressed[len(r[0]):]\n",
    "        decompressed += decompressed_length(compressed[:int(r[1])])*int(r[2])\n",
    "        compressed = compressed[int(r[1]):]\n",
    "        # Recursively decompress\n",
    "        return decompressed_length(compressed, decompressed, pattern=re_Compress)\n",
    "    else:\n",
    "        # Text up until the next marker doesn't need decompression\n",
    "        try:\n",
    "            idx = compressed.index('(')\n",
    "        except ValueError:\n",
    "            return decompressed + len(compressed)\n",
    "        # Continue decompressing\n",
    "        return decompressed_length(compressed[idx:], decompressed + compressed[:idx], pattern=re_Compress)\n",
    "\n",
    "print(f\"There are {decompressed_length(inputs):,} characters after decompressing the file.\")"
   ]
  },
  {
   "cell_type": "markdown",
   "id": "347c01b5-3f6e-4687-a48d-dcc82aa3594b",
   "metadata": {},
   "source": [
    "---"
   ]
  }
 ],
 "metadata": {
  "kernelspec": {
   "display_name": "Python 3",
   "language": "python",
   "name": "python3"
  },
  "language_info": {
   "codemirror_mode": {
    "name": "ipython",
    "version": 3
   },
   "file_extension": ".py",
   "mimetype": "text/x-python",
   "name": "python",
   "nbconvert_exporter": "python",
   "pygments_lexer": "ipython3",
   "version": "3.8.2"
  }
 },
 "nbformat": 4,
 "nbformat_minor": 5
}
