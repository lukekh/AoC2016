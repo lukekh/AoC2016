{
 "cells": [
  {
   "cell_type": "markdown",
   "id": "d406d2e1-a889-45c0-8aad-176765db7c02",
   "metadata": {},
   "source": [
    "# Day 7: Internet Protocol Version 7\n",
    "\n",
    "## Part One\n",
    "\n",
    "While snooping around the local network of EBHQ, you compile a list of IP addresses (they're IPv7, of course; IPv6 is much too limited). You'd like to figure out which IPs support TLS (transport-layer snooping).\n",
    "\n",
    "An IP supports TLS if it has an Autonomous Bridge Bypass Annotation, or ABBA. An ABBA is any four-character sequence which consists of a pair of two different characters followed by the reverse of that pair, such as `xyyx` or `abba`. However, the IP also must not have an ABBA within any hypernet sequences, which are contained by square brackets.\n",
    "\n",
    "For example:\n",
    "\n",
    "* `abba[mnop]qrst` supports TLS (abba outside square brackets).\n",
    "\n",
    "* `abcd[bddb]xyyx` does not support TLS (`bddb` is within square brackets, even though `xyyx` is outside square brackets).\n",
    "\n",
    "* `aaaa[qwer]tyui` does not support TLS (`aaaa` is invalid; the interior characters must be different).\n",
    "\n",
    "* `ioxxoj[asdfgh]zxcvbn` supports TLS (`oxxo` is outside square brackets, even though it's within a larger string).\n",
    "\n",
    "How many IPs in your puzzle input support TLS?\n",
    "\n",
    "---"
   ]
  },
  {
   "cell_type": "code",
   "execution_count": 1,
   "id": "a2567166-3ae8-4b85-be30-edd3590b0ee3",
   "metadata": {},
   "outputs": [],
   "source": [
    "# Initialise\n",
    "import re\n",
    "inputs = [i[:-1] for i in open('Day07.in').readlines()]"
   ]
  },
  {
   "cell_type": "code",
   "execution_count": 2,
   "id": "ab36f2b3-5421-456c-b80f-e4e34c0edc81",
   "metadata": {},
   "outputs": [
    {
     "name": "stdout",
     "output_type": "stream",
     "text": [
      "There are 110 IPv7 addresses that support TSL.\n"
     ]
    }
   ],
   "source": [
    "def ABBA_test(string):\n",
    "    \"\"\"\n",
    "    Recursively tests string for ABBA pattern and returns True if found else returns False if \n",
    "    it no pattern is found.\n",
    "    \"\"\"\n",
    "    if len(string) < 4:\n",
    "        return False\n",
    "    if (string[1] == string[2]) and (string[0] == string[3]) and (string[0] != string[1]):\n",
    "        return True\n",
    "    else:\n",
    "        return ABBA_test(string[1:])\n",
    "\n",
    "def TLS_IP(string):\n",
    "    \"\"\"\n",
    "    Tests wheter IPv7 address supports TLS and returns boolean.\n",
    "    \"\"\"\n",
    "    # This splits the IPv7 address into chunks based on brackets\n",
    "    # Even indices are outside brackets, odd indices are inside brackets\n",
    "    l = re.split('\\[|\\]', string)\n",
    "    \n",
    "    # Run ABBA test on odd/even indices and return bool\n",
    "    return any([ABBA_test(i) for i in l[::2]]) and (not any([ABBA_test(i) for i in l[1::2]]))\n",
    "\n",
    "# Solution\n",
    "print(f\"There are {len([i for i in inputs if TLS_IP(i)])} IPv7 addresses that support TSL.\")"
   ]
  },
  {
   "cell_type": "markdown",
   "id": "57b86756-1d1c-41e9-90a6-609b6f699bf0",
   "metadata": {},
   "source": [
    "---\n",
    "\n",
    "# Part Two\n",
    "\n",
    "You would also like to know which IPs support SSL (super-secret listening).\n",
    "\n",
    "An IP supports SSL if it has an Area-Broadcast Accessor, or ABA, anywhere in the supernet sequences (outside any square bracketed sections), and a corresponding Byte Allocation Block, or BAB, anywhere in the hypernet sequences. An ABA is any three-character sequence which consists of the same character twice with a different character between them, such as `xyx` or `aba`. A corresponding BAB is the same characters but in reversed positions: `yxy` and `bab`, respectively.\n",
    "\n",
    "For example:\n",
    "\n",
    "* `aba[bab]xyz` supports SSL (aba outside square brackets with corresponding bab within square brackets).\n",
    "\n",
    "* `xyx[xyx]xyx` does not support SSL (xyx, but no corresponding yxy).\n",
    "\n",
    "* `aaa[kek]eke` supports SSL (eke in supernet with corresponding kek in hypernet; the aaa sequence is not related, because the interior character must be different).\n",
    "\n",
    "* `zazbz[bzb]cdb` supports SSL (zaz has no corresponding aza, but zbz has a corresponding bzb, even though zaz and zbz overlap).\n",
    "\n",
    "How many IPs in your puzzle input support SSL?\n",
    "\n",
    "---"
   ]
  },
  {
   "cell_type": "code",
   "execution_count": 3,
   "id": "4bc1b1e2-0147-414c-83ba-bf9b992f767d",
   "metadata": {},
   "outputs": [
    {
     "name": "stdout",
     "output_type": "stream",
     "text": [
      "There are 242 IPv7 addresses that support SSL.\n"
     ]
    }
   ],
   "source": [
    "def ABA_test(string, brackets):\n",
    "    \"\"\"\n",
    "    Takes string and list of strings, tests for ABA and then if a pattern is found tests brackets\n",
    "    for corresponding BAB.\n",
    "    \"\"\"\n",
    "    def BAB_test(bab, string):\n",
    "        \"\"\"\n",
    "        Given bab and a string check if string contains bab\n",
    "        \"\"\"\n",
    "        if len(string) < 3:\n",
    "            return False\n",
    "        if string[:3] == bab:\n",
    "            return True\n",
    "        else:\n",
    "            return BAB_test(bab, string[1:])\n",
    "    \n",
    "    # Recursion base case\n",
    "    if len(string) < 3:\n",
    "        return False\n",
    "    \n",
    "    # If ABA found test for BAB in hypernet text\n",
    "    if (string[0] == string[2]) and (string[0] != string[1]):\n",
    "        # Define BAB\n",
    "        bab = string[1]+string[0]+string[1]\n",
    "        if any([BAB_test(bab, s) for s in brackets]):\n",
    "            return True\n",
    "    \n",
    "    # Recurse if ABA test fails\n",
    "    return ABA_test(string[1:], brackets)\n",
    "\n",
    "def SSL_IP(string):\n",
    "    \"\"\"\n",
    "    Tests wheter IPv7 address supports SSL and returns boolean. \n",
    "    \"\"\"\n",
    "    # This splits the IPv7 address into chunks based on brackets\n",
    "    # Even indices are outside brackets, odd indices are inside brackets\n",
    "    l = re.split('\\[|\\]', string)\n",
    "    \n",
    "    # Run ABA test and BAB test\n",
    "    return any([ABA_test(i, l[1::2]) for i in l[::2]])\n",
    "\n",
    "# Solution\n",
    "print(f\"There are {len([i for i in inputs if SSL_IP(i)])} IPv7 addresses that support SSL.\")"
   ]
  },
  {
   "cell_type": "markdown",
   "id": "8fb18b56-cd84-46e6-b360-c35e5cb30dd7",
   "metadata": {},
   "source": [
    "---"
   ]
  }
 ],
 "metadata": {
  "kernelspec": {
   "display_name": "Python 3",
   "language": "python",
   "name": "python3"
  },
  "language_info": {
   "codemirror_mode": {
    "name": "ipython",
    "version": 3
   },
   "file_extension": ".py",
   "mimetype": "text/x-python",
   "name": "python",
   "nbconvert_exporter": "python",
   "pygments_lexer": "ipython3",
   "version": "3.8.2"
  }
 },
 "nbformat": 4,
 "nbformat_minor": 5
}
