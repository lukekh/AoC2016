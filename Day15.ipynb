{
 "cells": [
  {
   "cell_type": "markdown",
   "id": "38489d49-7b33-4248-9d93-47bc534bca83",
   "metadata": {},
   "source": [
    "# Day 14: One-Time Pad\n",
    "\n",
    "## Part One\n",
    "\n",
    "In order to communicate securely with Santa while you're on this mission, you've been using a one-time pad that you generate using a pre-agreed algorithm. Unfortunately, you've run out of keys in your one-time pad, and so you need to generate some more.\n",
    "\n",
    "To generate keys, you first get a stream of random data by taking the MD5 of a pre-arranged salt (your puzzle input) and an increasing integer index (starting with `0`, and represented in decimal); the resulting MD5 hash should be represented as a string of lowercase hexadecimal digits.\n",
    "\n",
    "However, not all of these MD5 hashes are keys, and you need `64` new keys for your one-time pad. A hash is a key only if:\n",
    "\n",
    "* It contains three of the same character in a row, like `777`. Only consider the first such triplet in a hash.\n",
    "\n",
    "* One of the next `1000` hashes in the stream contains that same character five times in a row, like `77777`.\n",
    "\n",
    "Considering future hashes for five-of-a-kind sequences does not cause those hashes to be skipped; instead, regardless of whether the current hash is a key, always resume testing for keys starting with the very next hash.\n",
    "\n",
    "For example, if the pre-arranged salt is `abc`:\n",
    "\n",
    "The first index which produces a triple is `18`, because the MD5 hash of `abc18` contains `...cc38887a5...`. However, index `18` does not count as a key for your one-time pad, because none of the next thousand hashes (index `19` through index `1018`) contain `88888`.\n",
    "The next index which produces a triple is `39`; the hash of `abc39` contains `eee`. It is also the first key: one of the next thousand hashes (the one at index `816`) contains `eeeee`.\n",
    "None of the next six triples are keys, but the one after that, at index `92`, is: it contains `999` and index `200` contains `99999`.\n",
    "Eventually, index `22728` meets all of the criteria to generate the 64th key.\n",
    "So, using our example salt of `abc`, index `22728` produces the 64th key.\n",
    "\n",
    "Given the actual salt in your puzzle input, what index produces your 64th one-time pad key?\n",
    "\n",
    "---"
   ]
  },
  {
   "cell_type": "code",
   "execution_count": 1,
   "id": "766db18f-362f-4ad3-a681-d9353b5e5396",
   "metadata": {},
   "outputs": [],
   "source": [
    "from hashlib import md5\n",
    "import re\n",
    "\n",
    "# Initialise\n",
    "inputs = 'cuanljph'\n",
    "encoding = 'utf-8'\n",
    "idx = 0"
   ]
  },
  {
   "cell_type": "code",
   "execution_count": 2,
   "id": "1abcf44a-64a5-4840-8f33-d6bddf3038bb",
   "metadata": {},
   "outputs": [],
   "source": [
    "idx = 0\n",
    "\n",
    "# This will quickly perform the md5 hash and return a string\n",
    "md5_h = lambda x, i: md5((x+str(i)).encode(encoding)).hexdigest()\n",
    "\n",
    "re_triple = r'(.)\\1{2}'\n",
    "triple = lambda s: x[1] if (x := re.search(re_triple, s)) else None\n",
    "\n",
    "re_quintuple = lambda char: f'{char}{{5}}'\n",
    "quintuple = lambda char, s: True if (x := re.search(re_quintuple(char), s)) else False\n",
    "\n",
    "key_dict = {}\n",
    "count_dict = {}\n",
    "re_dict = {}\n",
    "\n",
    "while len(key_dict) < 64:\n",
    "    h = md5_h(inputs, idx)\n",
    "    del_keys = set()\n",
    "    \n",
    "    for k in count_dict:\n",
    "        if len(key_dict) == 64:\n",
    "            break\n",
    "        if idx - count_dict[k] > 1000:\n",
    "            del_keys.add(k)\n",
    "            continue\n",
    "        if quintuple(re_dict[k], h):\n",
    "            key_dict[k] = count_dict[k]\n",
    "            del_keys.add(k)\n",
    "            del_keys.add(k)\n",
    "    \n",
    "    for k in del_keys:\n",
    "        del count_dict[k]\n",
    "        del re_dict[k]\n",
    "    \n",
    "    if (char:= triple(h)):\n",
    "        count_dict[h] = idx\n",
    "        re_dict[h] = char\n",
    "    \n",
    "    idx += 1"
   ]
  },
  {
   "cell_type": "code",
   "execution_count": 3,
   "id": "a840f950-83ff-427b-8193-90e4cf8f8590",
   "metadata": {},
   "outputs": [
    {
     "name": "stdout",
     "output_type": "stream",
     "text": [
      "Index 23,769 has the final key.\n"
     ]
    }
   ],
   "source": [
    "print(f\"Index {max(key_dict.values()):,} has the final key.\")"
   ]
  },
  {
   "cell_type": "markdown",
   "id": "d6821e07-e320-4168-a15e-31da1cac0708",
   "metadata": {},
   "source": [
    "---\n",
    "\n",
    "## Part Two\n",
    "\n",
    "Of course, in order to make this process even more secure, you've also implemented key stretching.\n",
    "\n",
    "Key stretching forces attackers to spend more time generating hashes. Unfortunately, it forces everyone else to spend more time, too.\n",
    "\n",
    "To implement key stretching, whenever you generate a hash, before you use it, you first find the MD5 hash of that hash, then the MD5 hash of that hash, and so on, a total of 2016 additional hashings. Always use lowercase hexadecimal representations of hashes.\n",
    "\n",
    "For example, to find the stretched hash for index `0` and salt `abc`:\n",
    "\n",
    "* Find the MD5 hash of `abc0`: `577571be4de9dcce85a041ba0410f29f`.\n",
    "\n",
    "* Then, find the MD5 hash of that hash: `eec80a0c92dc8a0777c619d9bb51e910`.\n",
    "\n",
    "* Then, find the MD5 hash of that hash: `16062ce768787384c81fe17a7a60c7e3`.\n",
    "\n",
    "* ...repeat many times...\n",
    "\n",
    "* Then, find the MD5 hash of that hash: `a107ff634856bb300138cac6568c0f24`.\n",
    "\n",
    "So, the stretched hash for index `0` in this situation is `a107ff....` In the end, you find the original hash (one use of MD5), then find the hash-of-the-previous-hash 2016 times, for a total of 2017 uses of MD5.\n",
    "\n",
    "The rest of the process remains the same, but now the keys are entirely different. Again for salt `abc`:\n",
    "\n",
    "* The first triple (`222`, at index `5`) has no matching `22222` in the next thousand hashes.\n",
    "\n",
    "* The second triple (`eee`, at index `10`) hash a matching `eeeee` at index `89`, and so it is the first key.\n",
    "\n",
    "* Eventually, index `22551` produces the 64th key (triple `fff` with matching `fffff` at index `22859`.\n",
    "\n",
    "Given the actual salt in your puzzle input and using 2016 extra MD5 calls of key stretching, what index now produces your 64th one-time pad key?\n",
    "\n",
    "---"
   ]
  },
  {
   "cell_type": "code",
   "execution_count": 4,
   "id": "c924f777-e43d-4723-9894-c10cac8d0bd7",
   "metadata": {},
   "outputs": [],
   "source": [
    "idx = 0\n",
    "\n",
    "# This will quickly perform the md5 hash and return a string\n",
    "md5_h_alt = lambda x, n=2017: md5_h_alt(md5(x.encode(encoding)).hexdigest(), n-1) if n else x\n",
    "\n",
    "key_stretch = lambda x, i: md5_h_alt(x + str(i))\n",
    "\n",
    "re_triple = r'(.)\\1{2}'\n",
    "triple = lambda s: x[1] if (x := re.search(re_triple, s)) else None\n",
    "\n",
    "re_quintuple = lambda char: f'{char}{{5}}'\n",
    "quintuple = lambda char, s: True if (x := re.search(re_quintuple(char), s)) else False\n",
    "\n",
    "key_dict = {}\n",
    "count_dict = {}\n",
    "re_dict = {}\n",
    "\n",
    "while len(key_dict) < 64:\n",
    "    h = key_stretch(inputs, idx)\n",
    "    del_keys = set()\n",
    "    \n",
    "    for k in count_dict:\n",
    "        if len(key_dict) == 64:\n",
    "            break\n",
    "        if idx - count_dict[k] > 1000:\n",
    "            del_keys.add(k)\n",
    "            continue\n",
    "        if quintuple(re_dict[k], h):\n",
    "            key_dict[k] = count_dict[k]\n",
    "            del_keys.add(k)\n",
    "            del_keys.add(k)\n",
    "    \n",
    "    for k in del_keys:\n",
    "        del count_dict[k]\n",
    "        del re_dict[k]\n",
    "    \n",
    "    if (char:= triple(h)):\n",
    "        count_dict[h] = idx\n",
    "        re_dict[h] = char\n",
    "    \n",
    "    idx += 1"
   ]
  },
  {
   "cell_type": "code",
   "execution_count": 5,
   "id": "867b883e-a628-4e3c-844d-595a53432c3b",
   "metadata": {},
   "outputs": [
    {
     "name": "stdout",
     "output_type": "stream",
     "text": [
      "Index 20,606 has the final key.\n"
     ]
    }
   ],
   "source": [
    "print(f\"Index {max(key_dict.values()):,} has the final key.\")"
   ]
  },
  {
   "cell_type": "markdown",
   "id": "a21e7cdd-62b5-4b16-aa92-d38dddec376d",
   "metadata": {},
   "source": [
    "---"
   ]
  }
 ],
 "metadata": {
  "kernelspec": {
   "display_name": "Python 3",
   "language": "python",
   "name": "python3"
  },
  "language_info": {
   "codemirror_mode": {
    "name": "ipython",
    "version": 3
   },
   "file_extension": ".py",
   "mimetype": "text/x-python",
   "name": "python",
   "nbconvert_exporter": "python",
   "pygments_lexer": "ipython3",
   "version": "3.8.2"
  }
 },
 "nbformat": 4,
 "nbformat_minor": 5
}
