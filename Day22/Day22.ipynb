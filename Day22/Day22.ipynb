{
 "cells": [
  {
   "cell_type": "markdown",
   "id": "6e8586f3-45bc-4b27-b6cd-8a5467b26ae4",
   "metadata": {},
   "source": [
    "# Day 22: Grid Computing\n",
    "\n",
    "## Part One\n",
    "\n",
    "You gain access to a massive storage cluster arranged in a grid; each storage node is only connected to the four nodes directly adjacent to it (three if the node is on an edge, two if it's in a corner).\n",
    "\n",
    "You can directly access data only on node `/dev/grid/node-x0-y0`, but you can perform some limited actions on the other nodes:\n",
    "\n",
    "* You can get the disk usage of all nodes (via df). The result of doing this is in your puzzle input.\n",
    "\n",
    "* You can instruct a node to move (not copy) all of its data to an adjacent node (if the destination node has enough space to receive the data). The sending node is left empty after this operation.\n",
    "\n",
    "Nodes are named by their position: the node named `node-x10-y10` is adjacent to nodes `node-x9-y10`, `node-x11-y10`, `node-x10-y9`, and `node-x10-y11`.\n",
    "\n",
    "Before you begin, you need to understand the arrangement of data on these nodes. Even though you can only move data between directly connected nodes, you're going to need to rearrange a lot of the data to get access to the data you need. Therefore, you need to work out how you might be able to shift data around.\n",
    "\n",
    "To do this, you'd like to count the number of viable pairs of nodes. A viable pair is any two nodes `(A,B)`, regardless of whether they are directly connected, such that:\n",
    "\n",
    "* Node A is not empty (its Used is not zero).\n",
    "\n",
    "* Nodes A and B are not the same node.\n",
    "\n",
    "* The data on node A (its `Used`) would fit on node B (its `Avail`).\n",
    "\n",
    "How many viable pairs of nodes are there?\n",
    "\n",
    "---"
   ]
  },
  {
   "cell_type": "code",
   "execution_count": 223,
   "id": "0675f841-cc1c-4932-86b9-af6da3f8073e",
   "metadata": {},
   "outputs": [],
   "source": [
    "import re\n",
    "\n",
    "re_df = r'/dev/grid/node-x(\\d+)-y(\\d+)\\s+(\\d+)T\\s+(\\d+)T\\s+(\\d+)T\\s+(\\d+)\\%'\n",
    "\n",
    "# inputs[(x,y)] = (size, used, avail, use%)\n",
    "inputs = {\n",
    "    (int(x[1]), int(x[2])) : (int(x[3]), int(x[4]), int(x[5]), int(x[6])) for i in open('Day22.in').readlines() if (x:=re.match(re_df, i))\n",
    "}"
   ]
  },
  {
   "cell_type": "code",
   "execution_count": 224,
   "id": "51af56d1-1eed-4325-b46d-9a9e7a173074",
   "metadata": {},
   "outputs": [],
   "source": [
    "ab_pairs = 0\n",
    "\n",
    "for v in inputs:\n",
    "    for u in inputs:\n",
    "        if v != u:\n",
    "            if inputs[v][1] != 0:\n",
    "                if inputs[v][1] <= inputs[u][2]:\n",
    "                    ab_pairs += 1"
   ]
  },
  {
   "cell_type": "code",
   "execution_count": 225,
   "id": "5b770e07-09cb-448b-bd6f-ba8c946f5a86",
   "metadata": {},
   "outputs": [
    {
     "data": {
      "text/plain": [
       "937"
      ]
     },
     "execution_count": 225,
     "metadata": {},
     "output_type": "execute_result"
    }
   ],
   "source": [
    "ab_pairs"
   ]
  },
  {
   "cell_type": "markdown",
   "id": "da085bf2-8a0c-4920-907b-7eb4f77ed744",
   "metadata": {},
   "source": [
    "---\n",
    "\n",
    "## Part Two\n",
    "\n",
    "Now that you have a better understanding of the grid, it's time to get to work.\n",
    "\n",
    "Your goal is to gain access to the data which begins in the node with `y=0` and the highest `x` (that is, the node in the top-right corner).\n",
    "\n",
    "For example, suppose you have the following grid:\n",
    "\n",
    "```\n",
    "Filesystem            Size  Used  Avail  Use%\n",
    "/dev/grid/node-x0-y0   10T    8T     2T   80%\n",
    "/dev/grid/node-x0-y1   11T    6T     5T   54%\n",
    "/dev/grid/node-x0-y2   32T   28T     4T   87%\n",
    "/dev/grid/node-x1-y0    9T    7T     2T   77%\n",
    "/dev/grid/node-x1-y1    8T    0T     8T    0%\n",
    "/dev/grid/node-x1-y2   11T    7T     4T   63%\n",
    "/dev/grid/node-x2-y0   10T    6T     4T   60%\n",
    "/dev/grid/node-x2-y1    9T    8T     1T   88%\n",
    "/dev/grid/node-x2-y2    9T    6T     3T   66%\n",
    "```\n",
    "\n",
    "In this example, you have a storage grid `3` nodes wide and `3` nodes tall. The node you can access directly, `node-x0-y0`, is almost full. The node containing the data you want to access, `node-x2-y0` (because it has `y=0` and the highest `x` value), contains `6` terabytes of data - enough to fit on your node, if only you could make enough space to move it there.\n",
    "\n",
    "Fortunately, `node-x1-y1` looks like it has enough free space to enable you to move some of this data around. In fact, it seems like all of the nodes have enough space to hold any node's data (except `node-x0-y2`, which is much larger, very full, and not moving any time soon). So, initially, the grid's capacities and connections look like this:\n",
    "\n",
    "```\n",
    "( 8T/10T) --  7T/ 9T -- [ 6T/10T]\n",
    "    |           |           |\n",
    "  6T/11T  --  0T/ 8T --   8T/ 9T\n",
    "    |           |           |\n",
    " 28T/32T  --  7T/11T --   6T/ 9T\n",
    "```\n",
    "\n",
    "The node you can access directly is in parentheses; the data you want starts in the node marked by square brackets.\n",
    "\n",
    "In this example, most of the nodes are interchangable: they're full enough that no other node's data would fit, but small enough that their data could be moved around. Let's draw these nodes as `.`. The exceptions are the empty node, which we'll draw as `_`, and the very large, very full node, which we'll draw as `#`. Let's also draw the goal data as `G`. Then, it looks like this:\n",
    "```\n",
    "(.) .  G\n",
    " .  _  .\n",
    " #  .  .\n",
    "```\n",
    " \n",
    "The goal is to move the data in the top right, `G`, to the node in parentheses. To do this, we can issue some commands to the grid and rearrange the data:\n",
    "\n",
    "Move data from `node-y0-x1` to `node-y1-x1`, leaving node `node-y0-x1` empty:\n",
    "\n",
    "```\n",
    "(.) _  G\n",
    " .  .  .\n",
    " #  .  .\n",
    "```\n",
    "\n",
    "Move the goal data from `node-y0-x2` to `node-y0-x1`:\n",
    "\n",
    "```\n",
    "(.) G  _\n",
    " .  .  .\n",
    " #  .  .\n",
    "```\n",
    "\n",
    "At this point, we're quite close. However, we have no deletion command, so we have to move some more data around. So, next, we move the data from `node-y1-x2` to `node-y0-x2`:\n",
    "\n",
    "```\n",
    "(.) G  .\n",
    " .  .  _\n",
    " #  .  .\n",
    "```\n",
    "\n",
    "Move the data from `node-y1-x1` to `node-y1-x2`:\n",
    "\n",
    "```\n",
    "(.) G  .\n",
    " .  _  .\n",
    " #  .  .\n",
    "```\n",
    "\n",
    "Move the data from `node-y1-x0` to `node-y1-x1`:\n",
    "\n",
    "```\n",
    "(.) G  .\n",
    " _  .  .\n",
    " #  .  .\n",
    "```\n",
    "\n",
    "Next, we can free up space on our node by moving the data from `node-y0-x0` to `node-y1-x0`:\n",
    "\n",
    "```\n",
    "(_) G  .\n",
    " .  .  .\n",
    " #  .  .\n",
    "```\n",
    "\n",
    "Finally, we can access the goal data by moving the it from `node-y0-x1` to `node-y0-x0`:\n",
    "\n",
    "```\n",
    "(G) _  .\n",
    " .  .  .\n",
    " #  .  .\n",
    "```\n",
    "\n",
    "So, after `7` steps, we've accessed the data we want. Unfortunately, each of these moves takes time, and we need to be efficient:\n",
    "\n",
    "What is the fewest number of steps required to move your goal data to `node-x0-y0`?\n",
    "\n",
    "---"
   ]
  },
  {
   "cell_type": "code",
   "execution_count": 226,
   "id": "e70a6576-1fda-40c5-a084-2a2bd1b0f1d4",
   "metadata": {},
   "outputs": [],
   "source": [
    "grid = {\n",
    "    i: '_' if inputs[i][1] == 0 else ('.' if inputs[i][1] < 90 else '#') for i in inputs\n",
    "}"
   ]
  },
  {
   "cell_type": "code",
   "execution_count": 227,
   "id": "dc13ece0-97d7-4b32-bfc8-bdf6552daeb6",
   "metadata": {},
   "outputs": [],
   "source": [
    "rows, cols = max([x for x, y in grid]), max([y for x, y in grid])\n",
    "\n",
    "s = ' '\n",
    "\n",
    "for x in range(rows+1):\n",
    "    for y in range(cols+1):\n",
    "        if x == y == 0:\n",
    "            s = s[:-1]\n",
    "            s += f'({grid[(x, y)]})'\n",
    "        elif (x == rows) & (y == 0):\n",
    "            s = s[:-1]\n",
    "            s += f'[{grid[(x, y)]}]'\n",
    "        else:\n",
    "            s += grid[(x, y)] + ' '\n",
    "    s += '\\n\\n '"
   ]
  },
  {
   "cell_type": "code",
   "execution_count": 228,
   "id": "8a4122df-51c5-468c-b7c5-59eb070ab72a",
   "metadata": {},
   "outputs": [
    {
     "name": "stdout",
     "output_type": "stream",
     "text": [
      "(.). . . . . . . . . . . . . . . . . . . . . . . . . . . . . . . \n",
      "\n",
      " . . . . . . . . . . . . . . . . . . . . . . . . . . . . . . . . \n",
      "\n",
      " . . . . . . . . . . . . . . . . . . . . . . . . . . . . . . . . \n",
      "\n",
      " . . . . . . . . . . . . . . . . . . . . . . . . . . . . . . . . \n",
      "\n",
      " . . . . . . . . . . . . . . . . . . . . . . . . . . . . . . . . \n",
      "\n",
      " . . . . . . . . . . . . . . . . . . . . . . . . . . . . . . . . \n",
      "\n",
      " . . . . . . . . . . . . . . . . . . . . . . . . . . . . . . . . \n",
      "\n",
      " . . . . . . . . . . . . . . . . . . . . . . . . . . . . . . . . \n",
      "\n",
      " . . . . . . . . . . . . . . # . . . . . . . . . . . . . . . . . \n",
      "\n",
      " . . . . . . . . . . . . . . # . . . . . . . . . . . . . . . . . \n",
      "\n",
      " . . . . . . . . . . . . . . # . . . . . . . . . . . . . . . . . \n",
      "\n",
      " . . . . . . . . . . . . . . # . . . . . . . _ . . . . . . . . . \n",
      "\n",
      " . . . . . . . . . . . . . . # . . . . . . . . . . . . . . . . . \n",
      "\n",
      " . . . . . . . . . . . . . . # . . . . . . . . . . . . . . . . . \n",
      "\n",
      " . . . . . . . . . . . . . . # . . . . . . . . . . . . . . . . . \n",
      "\n",
      " . . . . . . . . . . . . . . # . . . . . . . . . . . . . . . . . \n",
      "\n",
      " . . . . . . . . . . . . . . # . . . . . . . . . . . . . . . . . \n",
      "\n",
      " . . . . . . . . . . . . . . # . . . . . . . . . . . . . . . . . \n",
      "\n",
      " . . . . . . . . . . . . . . # . . . . . . . . . . . . . . . . . \n",
      "\n",
      " . . . . . . . . . . . . . . # . . . . . . . . . . . . . . . . . \n",
      "\n",
      " . . . . . . . . . . . . . . # . . . . . . . . . . . . . . . . . \n",
      "\n",
      " . . . . . . . . . . . . . . # . . . . . . . . . . . . . . . . . \n",
      "\n",
      " . . . . . . . . . . . . . . # . . . . . . . . . . . . . . . . . \n",
      "\n",
      " . . . . . . . . . . . . . . # . . . . . . . . . . . . . . . . . \n",
      "\n",
      " . . . . . . . . . . . . . . # . . . . . . . . . . . . . . . . . \n",
      "\n",
      " . . . . . . . . . . . . . . # . . . . . . . . . . . . . . . . . \n",
      "\n",
      " . . . . . . . . . . . . . . # . . . . . . . . . . . . . . . . . \n",
      "\n",
      " . . . . . . . . . . . . . . # . . . . . . . . . . . . . . . . . \n",
      "\n",
      " . . . . . . . . . . . . . . # . . . . . . . . . . . . . . . . . \n",
      "\n",
      "[.]. . . . . . . . . . . . . # . . . . . . . . . . . . . . . . . \n",
      "\n",
      " \n"
     ]
    }
   ],
   "source": [
    "print(s)"
   ]
  },
  {
   "cell_type": "markdown",
   "id": "50e26da4-b310-40b3-8bc3-6edc4a889bfc",
   "metadata": {},
   "source": [
    "A state can be thought of as a double (b, d) that complies with the map -- d for data and b for blank.\n",
    "\n",
    "b can be moved up, down, left, right and interacts with d by swapping its place. It is a valid move if b is not moving onto a hash on the map."
   ]
  },
  {
   "cell_type": "code",
   "execution_count": 229,
   "id": "5796bb53-8fb1-4031-8996-bf49f26dd643",
   "metadata": {},
   "outputs": [],
   "source": [
    "blanks = [i for i in grid if grid[i] == '_']\n",
    "states = set([(i, (max([x for x, y in grid]), 0)) for i in blanks])\n",
    "\n",
    "current_states = states.copy()\n",
    "\n",
    "def legal_moves(blank, grid = grid):\n",
    "    nodes = []\n",
    "    x, y = blank\n",
    "    \n",
    "    for i in range(-1, 2, 2):\n",
    "        if ((x+i, y) in grid) and (grid[(x+i, y)] != '#'):\n",
    "            nodes.append((x+i, y))\n",
    "        if ((x, y+i) in grid) and (grid[(x, y+i)] != '#'):\n",
    "            nodes.append((x, y+i))\n",
    "    \n",
    "    return nodes\n",
    "\n",
    "def get_new_states(current_states, states=states, grid=grid):\n",
    "    \n",
    "    new_states = set()\n",
    "    \n",
    "    for b, d in current_states:\n",
    "        legals = legal_moves(b, grid)\n",
    "        for legal in legals:\n",
    "            if legal == d:\n",
    "                if (legal, b) not in states:\n",
    "                    new_states.add((legal, b))\n",
    "            else:\n",
    "                if (legal, d) not in states:\n",
    "                    new_states.add((legal, d))\n",
    "    \n",
    "    return new_states\n",
    "\n",
    "\n",
    "cost = 0\n",
    "\n",
    "while (((0,1), (0,0)) not in current_states) and (((1,0), (0,0)) not in current_states):\n",
    "    current_states = get_new_states(current_states)\n",
    "    states |= current_states\n",
    "    cost += 1\n"
   ]
  },
  {
   "cell_type": "code",
   "execution_count": 230,
   "id": "e3bdaf2f-e2fd-411b-8d06-a6233d62d405",
   "metadata": {},
   "outputs": [
    {
     "data": {
      "text/plain": [
       "188"
      ]
     },
     "execution_count": 230,
     "metadata": {},
     "output_type": "execute_result"
    }
   ],
   "source": [
    "cost"
   ]
  },
  {
   "cell_type": "code",
   "execution_count": 144,
   "id": "4bec89f1-40e8-443c-9685-fa316b197d19",
   "metadata": {},
   "outputs": [
    {
     "data": {
      "text/plain": [
       "{((0, 29), (0, 31)), ((0, 31), (0, 30)), ((1, 30), (0, 31))}"
      ]
     },
     "execution_count": 144,
     "metadata": {},
     "output_type": "execute_result"
    }
   ],
   "source": [
    "current_states"
   ]
  },
  {
   "cell_type": "code",
   "execution_count": null,
   "id": "fafd1da8-8d3d-48bf-81d5-0e58f56cdf9c",
   "metadata": {},
   "outputs": [],
   "source": []
  },
  {
   "cell_type": "code",
   "execution_count": null,
   "id": "876f1e0d-3cc3-45db-b4d7-1651378a66c8",
   "metadata": {},
   "outputs": [],
   "source": []
  },
  {
   "cell_type": "code",
   "execution_count": 189,
   "id": "f4f244db-9f12-4b47-8dd4-4d9f07d2aa37",
   "metadata": {},
   "outputs": [],
   "source": [
    "test = '''/dev/grid/node-x0-y0   10T    8T     2T   80%\n",
    "/dev/grid/node-x0-y1   11T    6T     5T   54%\n",
    "/dev/grid/node-x0-y2   32T   28T     4T   87%\n",
    "/dev/grid/node-x1-y0    9T    7T     2T   77%\n",
    "/dev/grid/node-x1-y1    8T    0T     8T    0%\n",
    "/dev/grid/node-x1-y2   11T    7T     4T   63%\n",
    "/dev/grid/node-x2-y0   10T    6T     4T   60%\n",
    "/dev/grid/node-x2-y1    9T    8T     1T   88%\n",
    "/dev/grid/node-x2-y2    9T    6T     3T   66%'''\n",
    "\n",
    "inputs = {\n",
    "    (int(x[1]), int(x[2])) : (int(x[3]), int(x[4]), int(x[5]), int(x[6])) for i in test.split('\\n') if (x:=re.match(re_df, i))\n",
    "}\n",
    "\n",
    "grid = {\n",
    "    i: '_' if inputs[i][1] == 0 else ('.' if inputs[i][1] < 10 else '#') for i in inputs\n",
    "}\n",
    "\n"
   ]
  },
  {
   "cell_type": "code",
   "execution_count": 196,
   "id": "1a2bfd98-09bb-4212-9bb4-9a533fda49e8",
   "metadata": {},
   "outputs": [],
   "source": [
    "rows, cols = max([x for x, y in grid]), max([y for x, y in grid])\n",
    "\n",
    "s = ' '\n",
    "\n",
    "for y in range(cols+1):\n",
    "    for x in range(rows+1):\n",
    "        if x == y == 0:\n",
    "            s = s[:-1]\n",
    "            s += f'({grid[(x, y)]})'\n",
    "        elif (x == rows) & (y == 0):\n",
    "            s = s[:-1]\n",
    "            s += f'[{grid[(x, y)]}]'\n",
    "        else:\n",
    "            s += grid[(x, y)] + ' '\n",
    "    s += '\\n\\n '"
   ]
  },
  {
   "cell_type": "code",
   "execution_count": 197,
   "id": "a99f3c51-a1b6-49ce-9437-c00f52c96ac7",
   "metadata": {},
   "outputs": [
    {
     "name": "stdout",
     "output_type": "stream",
     "text": [
      "(.).[.]\n",
      "\n",
      " . _ . \n",
      "\n",
      " # . . \n",
      "\n",
      " \n"
     ]
    }
   ],
   "source": [
    "print(s)"
   ]
  },
  {
   "cell_type": "code",
   "execution_count": 219,
   "id": "3c91446f-38c0-4bff-be4c-b3f2cc646839",
   "metadata": {},
   "outputs": [],
   "source": [
    "blanks = [i for i in grid if grid[i] == '_']\n",
    "states = set([(i, (max([x for x, y in grid]), 0)) for i in blanks])\n",
    "\n",
    "current_states = states.copy()\n",
    "cost = 0\n",
    "\n",
    "while (((0,1), (0,0)) not in current_states) and (((1,0), (0,0)) not in current_states):\n",
    "    current_states = get_new_states(current_states, grid)\n",
    "    states |= current_states\n",
    "    cost += 1"
   ]
  },
  {
   "cell_type": "code",
   "execution_count": 220,
   "id": "5776a27b-c43e-48a9-b220-5951126c9691",
   "metadata": {},
   "outputs": [
    {
     "data": {
      "text/plain": [
       "7"
      ]
     },
     "execution_count": 220,
     "metadata": {},
     "output_type": "execute_result"
    }
   ],
   "source": [
    "cost"
   ]
  },
  {
   "cell_type": "code",
   "execution_count": 209,
   "id": "ce70b821-8c68-4a7c-93d1-9157ce1afa9b",
   "metadata": {},
   "outputs": [],
   "source": [
    "blanks = [i for i in grid if grid[i] == '_']\n",
    "states = set([(i, (max([x for x, y in grid]), 0)) for i in blanks])\n",
    "\n",
    "current_states = states.copy()"
   ]
  },
  {
   "cell_type": "code",
   "execution_count": 204,
   "id": "89b01866-5e0d-4edd-83f5-ce1354a5c576",
   "metadata": {},
   "outputs": [],
   "source": [
    "states = set([(i, (max([x for x, y in grid]), 0)) for i in blanks])\n"
   ]
  }
 ],
 "metadata": {
  "kernelspec": {
   "display_name": "Python 3",
   "language": "python",
   "name": "python3"
  },
  "language_info": {
   "codemirror_mode": {
    "name": "ipython",
    "version": 3
   },
   "file_extension": ".py",
   "mimetype": "text/x-python",
   "name": "python",
   "nbconvert_exporter": "python",
   "pygments_lexer": "ipython3",
   "version": "3.8.2"
  }
 },
 "nbformat": 4,
 "nbformat_minor": 5
}
