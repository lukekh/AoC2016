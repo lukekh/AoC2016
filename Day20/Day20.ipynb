{
 "cells": [
  {
   "cell_type": "markdown",
   "id": "5f44c2ff-53d8-4a82-bd4a-0f65915d755b",
   "metadata": {},
   "source": [
    "# Day 20: Firewall Rules\n",
    "\n",
    "## Part One\n",
    "\n",
    "You'd like to set up a small hidden computer here so you can use it to get back into the network later. However, the corporate firewall only allows communication with certain external IP addresses.\n",
    "\n",
    "You've retrieved the list of blocked IPs from the firewall, but the list seems to be messy and poorly maintained, and it's not clear which IPs are allowed. Also, rather than being written in dot-decimal notation, they are written as plain 32-bit integers, which can have any value from `0` through `4294967295`, inclusive.\n",
    "\n",
    "For example, suppose only the values `0` through `9` were valid, and that you retrieved the following blacklist:\n",
    "\n",
    "```\n",
    "5-8\n",
    "0-2\n",
    "4-7\n",
    "```\n",
    "\n",
    "The blacklist specifies ranges of IPs (inclusive of both the start and end value) that are not allowed. Then, the only IPs that this firewall allows are `3` and `9`, since those are the only numbers not in any range.\n",
    "\n",
    "Given the list of blocked IPs you retrieved from the firewall (your puzzle input), what is the lowest-valued IP that is not blocked?\n",
    "\n",
    "---"
   ]
  },
  {
   "cell_type": "code",
   "execution_count": 1,
   "id": "da41875e-effb-48aa-bd5a-3360f8cb5756",
   "metadata": {},
   "outputs": [],
   "source": [
    "# Initialise\n",
    "inputs = [tuple([int(j) for j in i[:-1].split('-')]) for i in open('Day20.in').readlines()]"
   ]
  },
  {
   "cell_type": "code",
   "execution_count": 2,
   "id": "85264eea-83d4-4e0a-a905-4620858c25fe",
   "metadata": {},
   "outputs": [
    {
     "name": "stdout",
     "output_type": "stream",
     "text": [
      "The lowest valued IP address that is not blocked is 17348574.\n"
     ]
    }
   ],
   "source": [
    "# All candidates will be one more than the end of a range\n",
    "candidates = sorted([i[1]+1 for i in inputs])\n",
    "\n",
    "def check(n, ranges=inputs):\n",
    "    \"\"\"\n",
    "    This function checks if n is in any of the ranges in a list of ranges\n",
    "    \"\"\"\n",
    "    return not ({idx for idx, r in enumerate(ranges) if r[0]<=n} & {idx for idx, r in enumerate(ranges) if r[1]>=n})\n",
    "\n",
    "# Solution\n",
    "for c in candidates:\n",
    "    if check(c):\n",
    "        print(f\"The lowest valued IP address that is not blocked is {c}.\")\n",
    "        break"
   ]
  },
  {
   "cell_type": "markdown",
   "id": "6a1d6b03-6523-4f91-99e3-2066bff45e7c",
   "metadata": {},
   "source": [
    "---\n",
    "\n",
    "## Part Two\n",
    "How many IPs are allowed by the blacklist?\n",
    "\n",
    "---"
   ]
  },
  {
   "cell_type": "code",
   "execution_count": 3,
   "id": "c2a1f97d-a278-43a5-ae1c-307639dcc6c0",
   "metadata": {},
   "outputs": [
    {
     "name": "stdout",
     "output_type": "stream",
     "text": [
      "There are 104 valid IP addresses.\n"
     ]
    }
   ],
   "source": [
    "# Find lower and upper bounds\n",
    "lower_bounds = sorted(list(set([i[1]+1 for i in inputs])))\n",
    "upper_bounds = sorted(list(set([i[0] for i in (inputs + [(4294967296, None)])])))\n",
    "\n",
    "# Initialise count\n",
    "n_IP = 0\n",
    "\n",
    "# For candidate lower bound check if it is a valid IP address\n",
    "for l in lower_bounds:\n",
    "    if check(l):\n",
    "        # IP addresses will be valid until they hit the next upper bound\n",
    "        for idx, u in enumerate(upper_bounds):\n",
    "            if u >= l:\n",
    "                upper_bounds = upper_bounds[idx+1:]\n",
    "                n_IP += u-l\n",
    "                break\n",
    "\n",
    "# Solution\n",
    "print(f\"There are {n_IP} valid IP addresses.\")"
   ]
  },
  {
   "cell_type": "markdown",
   "id": "c3093a57-e798-4452-ab29-44063c3f5c84",
   "metadata": {},
   "source": [
    "---"
   ]
  }
 ],
 "metadata": {
  "kernelspec": {
   "display_name": "Python 3",
   "language": "python",
   "name": "python3"
  },
  "language_info": {
   "codemirror_mode": {
    "name": "ipython",
    "version": 3
   },
   "file_extension": ".py",
   "mimetype": "text/x-python",
   "name": "python",
   "nbconvert_exporter": "python",
   "pygments_lexer": "ipython3",
   "version": "3.8.2"
  }
 },
 "nbformat": 4,
 "nbformat_minor": 5
}
