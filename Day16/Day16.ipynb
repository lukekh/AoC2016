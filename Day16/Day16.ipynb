{
 "cells": [
  {
   "cell_type": "markdown",
   "id": "81e34214-5ac5-48bf-beed-1bff2b3964cf",
   "metadata": {},
   "source": [
    "# Day 16: Dragon Checksum\n",
    "\n",
    "## Part One\n",
    "\n",
    "You're done scanning this part of the network, but you've left traces of your presence. You need to overwrite some disks with random-looking data to cover your tracks and update the local security system with a new checksum for those disks.\n",
    "\n",
    "For the data to not be suspicious, it needs to have certain properties; purely random data will be detected as tampering. To generate appropriate random data, you'll need to use a modified dragon curve.\n",
    "\n",
    "Start with an appropriate initial state (your puzzle input). Then, so long as you don't have enough data yet to fill the disk, repeat the following steps:\n",
    "\n",
    "* Call the data you have at this point \"`a`\".\n",
    "\n",
    "* Make a copy of \"`a`\"; call this copy \"`b`\".\n",
    "\n",
    "* Reverse the order of the characters in \"`b`\".\n",
    "\n",
    "* In \"`b`\", replace all instances of `0` with `1` and all `1`s with `0`.\n",
    "\n",
    "* The resulting data is \"`a`\", then a single `0`, then \"`b`\".\n",
    "\n",
    "For example, after a single step of this process,\n",
    "\n",
    "* `1` becomes `100`.\n",
    "\n",
    "* `0` becomes `001`.\n",
    "\n",
    "* `11111` becomes `11111000000`.\n",
    "\n",
    "* `111100001010` becomes `1111000010100101011110000`.\n",
    "\n",
    "Repeat these steps until you have enough data to fill the desired disk.\n",
    "\n",
    "Once the data has been generated, you also need to create a checksum of that data. Calculate the checksum only for the data that fits on the disk, even if you generated more data than that in the previous step.\n",
    "\n",
    "The checksum for some given data is created by considering each non-overlapping pair of characters in the input data. If the two characters match (`00` or `11`), the next checksum character is a `1`. If the characters do not match (`01` or `10`), the next checksum character is a `0`. This should produce a new string which is exactly half as long as the original. If the length of the checksum is even, repeat the process until you end up with a checksum with an odd length.\n",
    "\n",
    "For example, suppose we want to fill a disk of length `12`, and when we finally generate a string of at least length `12`, the first `12` characters are `110010110100`. To generate its checksum:\n",
    "\n",
    "\n",
    "* Consider each pair: `11`, `00`, `10`, `11`, `01`, `00`.\n",
    "\n",
    "* These are same, same, different, same, different, same, producing `110101`.\n",
    "\n",
    "* The resulting string has length `6`, which is even, so we repeat the process.\n",
    "\n",
    "* The pairs are `11` (same), `01` (different), `01` (different).\n",
    "\n",
    "* This produces the checksum `100`, which has an odd length, so we stop.\n",
    "\n",
    "Therefore, the checksum for `110010110100` is `100`.\n",
    "\n",
    "Combining all of these steps together, suppose you want to fill a disk of length `20` using an initial state of `10000`:\n",
    "\n",
    "\n",
    "* Because `10000` is too short, we first use the modified dragon curve to make it longer.\n",
    "\n",
    "* After one round, it becomes `10000011110` (`11` characters), still too short.\n",
    "\n",
    "* After two rounds, it becomes `10000011110010000111110` (`23` characters), which is enough.\n",
    "\n",
    "* Since we only need 20, but we have 23, we get rid of all but the first `20` characters: `10000011110010000111`.\n",
    "\n",
    "* Next, we start calculating the checksum; after one round, we have `0111110101`, which `10` characters long (even), so we continue.\n",
    "\n",
    "* After two rounds, we have `01100`, which is `5` characters long (odd), so we are done.\n",
    "\n",
    "In this example, the correct checksum would therefore be `01100`.\n",
    "\n",
    "The first disk you have to fill has length `272`. Using the initial state in your puzzle input, what is the correct checksum?"
   ]
  },
  {
   "cell_type": "code",
   "execution_count": 1,
   "id": "900a324a-8397-424a-ac95-b0534c6d99cf",
   "metadata": {},
   "outputs": [],
   "source": [
    "# initialise\n",
    "inputs = '10111011111001111'"
   ]
  },
  {
   "cell_type": "code",
   "execution_count": 2,
   "id": "51013f2a-dd3a-4d62-952e-1d7c01f524c5",
   "metadata": {},
   "outputs": [
    {
     "name": "stdout",
     "output_type": "stream",
     "text": [
      "The checksum for the first disc is: 11101010111100010.\n"
     ]
    }
   ],
   "source": [
    "# Create functions that will perform the algorithms above\n",
    "dragon = lambda s, n: (s + '0' + ''.join(reversed(s)).replace('0', '#').replace('1', '0').replace('#', '1'))[:n] if 2*len(s) > n else dragon(s + '0' + ''.join(reversed(s)).replace('0', '#').replace('1', '0').replace('#', '1'), n)\n",
    "checksum = lambda s: s if (len(s) % 2) else checksum(''.join(['1' if s[2*i]==s[2*i + 1] else '0' for i in range(len(s)//2)]))\n",
    "\n",
    "# Solution\n",
    "print(f\"The checksum for the first disc is: {checksum(dragon(inputs, 272))}.\")"
   ]
  },
  {
   "cell_type": "markdown",
   "id": "034a2edb-64dd-4da2-b615-2271b4f440fe",
   "metadata": {},
   "source": [
    "---\n",
    "\n",
    "## Part Two\n",
    "The second disk you have to fill has length `35651584`. Again using the initial state in your puzzle input, what is the correct checksum for this disk?\n",
    "\n",
    "---"
   ]
  },
  {
   "cell_type": "code",
   "execution_count": 3,
   "id": "54d0774c-6a9f-45e3-ac54-20f5de769b20",
   "metadata": {},
   "outputs": [
    {
     "name": "stdout",
     "output_type": "stream",
     "text": [
      "The checksum for the second disc is: 01001101001000101.\n"
     ]
    }
   ],
   "source": [
    "# Solution\n",
    "print(f\"The checksum for the second disc is: {checksum(dragon(inputs, 35651584))}.\")"
   ]
  },
  {
   "cell_type": "markdown",
   "id": "a1867eaf-b933-437c-b969-2cb96a35171c",
   "metadata": {},
   "source": [
    "---"
   ]
  }
 ],
 "metadata": {
  "kernelspec": {
   "display_name": "Python 3",
   "language": "python",
   "name": "python3"
  },
  "language_info": {
   "codemirror_mode": {
    "name": "ipython",
    "version": 3
   },
   "file_extension": ".py",
   "mimetype": "text/x-python",
   "name": "python",
   "nbconvert_exporter": "python",
   "pygments_lexer": "ipython3",
   "version": "3.8.2"
  }
 },
 "nbformat": 4,
 "nbformat_minor": 5
}
