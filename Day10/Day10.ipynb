{
 "cells": [
  {
   "cell_type": "markdown",
   "id": "b9f70d4e-be41-4359-8870-f23897af5f15",
   "metadata": {},
   "source": [
    "# Day 10: Balance Bots\n",
    "\n",
    "## Part One\n",
    "\n",
    "You come upon a factory in which many robots are zooming around handing small microchips to each other.\n",
    "\n",
    "Upon closer examination, you notice that each bot only proceeds when it has two microchips, and once it does, it gives each one to a different bot or puts it in a marked \"output\" bin. Sometimes, bots take microchips from \"input\" bins, too.\n",
    "\n",
    "Inspecting one of the microchips, it seems like they each contain a single number; the bots must use some logic to decide what to do with each chip. You access the local control computer and download the bots' instructions (your puzzle input).\n",
    "\n",
    "Some of the instructions specify that a specific-valued microchip should be given to a specific bot; the rest of the instructions indicate what a given bot should do with its lower-value or higher-value chip.\n",
    "\n",
    "For example, consider the following instructions:\n",
    "\n",
    "```\n",
    "value 5 goes to bot 2\n",
    "bot 2 gives low to bot 1 and high to bot 0\n",
    "value 3 goes to bot 1\n",
    "bot 1 gives low to output 1 and high to bot 0\n",
    "bot 0 gives low to output 2 and high to output 0\n",
    "value 2 goes to bot 2\n",
    "\n",
    "```\n",
    "\n",
    "* Initially, bot `1` starts with a value-`3` chip, and bot `2` starts with a value-`2` chip and a value-`5` chip.\n",
    "\n",
    "* Because bot `2` has two microchips, it gives its lower one (`2`) to bot `1` and its higher one (`5`) to bot `0`.\n",
    "\n",
    "* Then, bot `1` has two microchips; it puts the value-`2` chip in output `1` and gives the value-`3` chip to bot `0`.\n",
    "\n",
    "* Finally, bot `0` has two microchips; it puts the `3` in output `2` and the `5` in output `0`.\n",
    "\n",
    "* In the end, output bin `0` contains a value-`5` microchip, output bin `1` contains a value-`2` microchip, and output bin `2` contains a value-`3` microchip. In this configuration, bot number `2` is responsible for comparing value-`5` microchips with value-`2` microchips.\n",
    "\n",
    "\n",
    "Based on your instructions, what is the number of the bot that is responsible for comparing value-`61` microchips with value-`17` microchips?\n",
    "\n",
    "---"
   ]
  },
  {
   "cell_type": "code",
   "execution_count": 1,
   "id": "ae108db6-7350-43fa-80ca-c9b46a8d00c5",
   "metadata": {},
   "outputs": [],
   "source": [
    "# Initialise\n",
    "import re\n",
    "inputs = [i[:-1] for i in open('Day10.in').readlines()]"
   ]
  },
  {
   "cell_type": "code",
   "execution_count": 2,
   "id": "e14fcda1-99ec-4335-80f0-f6ac91dd5d1d",
   "metadata": {},
   "outputs": [
    {
     "name": "stdout",
     "output_type": "stream",
     "text": [
      "Bot 113 is responsible for comparing value-61 microchips with value-17 microchips\n"
     ]
    }
   ],
   "source": [
    "# Regex patterns for inputs\n",
    "re_Value = r'value (\\d+) goes to bot (\\d+)'\n",
    "re_Gives = r'bot (\\d+) gives low to (bot|output) (\\d+) and high to (bot|output) (\\d+)'\n",
    "\n",
    "# Initialise dict for bots and outputs\n",
    "bots = {}\n",
    "outputs = {}\n",
    "\n",
    "\n",
    "class Bot:\n",
    "    \"\"\"\n",
    "    Simulates a bot in the description. Stores a chip value and instruction. When it gets\n",
    "    a new chip passed to it, it either stores the new chip or executes its instructions \n",
    "    if it already has a chip.\n",
    "    \n",
    "    Prints solution to puzzle when comparrison occurs.\n",
    "    \"\"\"\n",
    "    def __init__(self, n, instruction=None, chip=None, bots=bots, outputs=outputs):\n",
    "        self.n = n\n",
    "        self.instruction = instruction\n",
    "        self.chip = chip\n",
    "        self.bots = bots\n",
    "        self.outputs = outputs\n",
    "        \n",
    "        if n in bots.keys():\n",
    "            raise Exception(f\"Bot {n} is being initialised twice.\")\n",
    "        \n",
    "        bots[n] = self\n",
    "    \n",
    "    def __str__(self):\n",
    "        return f\"Bot[{self.n}]({self.chip if self.chip else ''})\"\n",
    "    \n",
    "    def __repr__(self):\n",
    "        return str(self)\n",
    "    \n",
    "    def gets(self, new_chip):\n",
    "        # Print solution when it occurs\n",
    "        if {self.chip, new_chip} == {17, 61}:\n",
    "            print(f\"Bot {self.n} is responsible for comparing value-61 microchips with value-17 microchips\")\n",
    "        \n",
    "        if self.chip is None:\n",
    "            self.chip = new_chip\n",
    "        elif self.chip < new_chip:\n",
    "            self.execute(self.chip, new_chip)\n",
    "        elif self.chip > new_chip:\n",
    "            self.execute(new_chip, self.chip)\n",
    "            \n",
    "    def execute(self, low, high):\n",
    "        r = re.search(re_Gives, self.instruction)\n",
    "        b1, m1, b2, m2 = r[2], int(r[3]), r[4], int(r[5])\n",
    "        \n",
    "        if b1 == 'bot':\n",
    "            self.bots[m1].gets(low)\n",
    "        else:\n",
    "            self.outputs[m1] = low\n",
    "        \n",
    "        if b2 == 'bot':\n",
    "            self.bots[m2].gets(high)\n",
    "        else:\n",
    "            self.outputs[m2] = high\n",
    "        \n",
    "        self.chip = None\n",
    "\n",
    "# Load instructions into bots\n",
    "# No need to assign as they are added into bots\n",
    "for i in [i for i in inputs if re.search(re_Gives, i)]:\n",
    "    Bot(int(re.search(re_Gives, i)[1]), instruction=i)\n",
    "\n",
    "# Put values into bots\n",
    "for i in [i for i in inputs if re.search(re_Value, i)]:\n",
    "    v, b = int(re.search(re_Value, i)[1]), int(re.search(re_Value, i)[2])\n",
    "    bots[b].gets(v)"
   ]
  },
  {
   "cell_type": "markdown",
   "id": "f29e4139-a942-4397-9bda-6cb6b2305576",
   "metadata": {},
   "source": [
    "---\n",
    "\n",
    "## Part Two\n",
    "\n",
    "What do you get if you multiply together the values of one chip in each of outputs 0, 1, and 2?\n",
    "\n",
    "---"
   ]
  },
  {
   "cell_type": "code",
   "execution_count": 3,
   "id": "41abbb0b-694c-4b20-8483-62119e486616",
   "metadata": {},
   "outputs": [
    {
     "name": "stdout",
     "output_type": "stream",
     "text": [
      "The solution to part two is 12,803.\n"
     ]
    }
   ],
   "source": [
    "# Solution\n",
    "print(f\"The solution to part two is {outputs[0]*outputs[1]*outputs[2]:,}.\")"
   ]
  },
  {
   "cell_type": "markdown",
   "id": "c6767588-9476-4b9e-af2b-a9417c275a17",
   "metadata": {},
   "source": [
    "---"
   ]
  }
 ],
 "metadata": {
  "kernelspec": {
   "display_name": "Python 3",
   "language": "python",
   "name": "python3"
  },
  "language_info": {
   "codemirror_mode": {
    "name": "ipython",
    "version": 3
   },
   "file_extension": ".py",
   "mimetype": "text/x-python",
   "name": "python",
   "nbconvert_exporter": "python",
   "pygments_lexer": "ipython3",
   "version": "3.8.2"
  }
 },
 "nbformat": 4,
 "nbformat_minor": 5
}
