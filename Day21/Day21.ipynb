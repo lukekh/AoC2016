{
 "cells": [
  {
   "cell_type": "markdown",
   "id": "29893476-e1e3-470c-bb78-f4ab9762e13d",
   "metadata": {},
   "source": [
    "# Day 21: Scrambled Letters and Hash\n",
    "\n",
    "## Part One\n",
    "\n",
    "The computer system you're breaking into uses a weird scrambling function to store its passwords. It shouldn't be much trouble to create your own scrambled password so you can add it to the system; you just have to implement the scrambler.\n",
    "\n",
    "The scrambling function is a series of operations (the exact list is provided in your puzzle input). Starting with the password to be scrambled, apply each operation in succession to the string. The individual operations behave as follows:\n",
    "\n",
    "* `swap position X with position Y` means that the letters at indexes `X` and `Y` (counting from `0`) should be swapped.\n",
    "\n",
    "* `swap letter X with letter Y` means that the letters `X` and `Y` should be swapped (regardless of where they appear in the string).\n",
    "\n",
    "* `rotate left/right X steps` means that the whole string should be rotated; for example, one right rotation would turn `abcd` into `dabc`.\n",
    "\n",
    "* `rotate based on position of letter X` means that the whole string should be rotated to the right based on the index of letter `X` (counting from `0`) as determined before this instruction does any rotations. Once the index is determined, rotate the string to the right one time, plus a number of times equal to that index, plus one additional time if the index was at least `4`.\n",
    "\n",
    "* `reverse positions X through Y` means that the span of letters at indexes `X` through `Y` (including the letters at `X` and `Y`) should be reversed in order.\n",
    "\n",
    "* `move position X to position Y` means that the letter which is at index `X` should be removed from the string, then inserted such that it ends up at index `Y`.\n",
    "\n",
    "For example, suppose you start with `abcde` and perform the following operations:\n",
    "\n",
    "\n",
    "* `swap position 4 with position 0` swaps the first and last letters, producing the input for the next step, `ebcda`.\n",
    "\n",
    "* `swap letter d with letter b` swaps the positions of `d` and `b`: `edcba`.\n",
    "\n",
    "* `reverse positions 0 through 4` causes the entire string to be reversed, producing `abcde`.\n",
    "\n",
    "* `rotate left 1 step` shifts all letters left one position, causing the first letter to wrap to the end of the string: `bcdea`.\n",
    "\n",
    "* `move position 1 to position 4` removes the letter at position `1` (`c`), then inserts it at position `4` (the end of the string): `bdeac`.\n",
    "\n",
    "* `move position 3 to position 0` removes the letter at position `3` (`a`), then inserts it at position `0` (the front of the string): `abdec`.\n",
    "\n",
    "* `rotate based on position of letter b` finds the index of letter `b` (`1`), then rotates the string right once plus a number of times equal to that index (`2`): `ecabd`.\n",
    "\n",
    "* `rotate based on position of letter d` finds the index of letter d (`4`), then rotates the string right once, plus a number of times equal to that index, plus an additional time because the index was at least `4`, for a total of `6` right rotations: `decab`.\n",
    "\n",
    "After these steps, the resulting scrambled password is `decab`.\n",
    "\n",
    "Now, you just need to generate a new scrambled password and you can access the system. Given the list of scrambling operations in your puzzle input, what is the result of scrambling `abcdefgh`?\n",
    "\n",
    "---"
   ]
  },
  {
   "cell_type": "code",
   "execution_count": 1,
   "id": "85d7b9c7-1204-43c6-9063-d336b1304541",
   "metadata": {},
   "outputs": [],
   "source": [
    "import re\n",
    "\n",
    "# Initialise\n",
    "original = password = 'abcdefgh'\n",
    "inputs = [i[:-1] for i in open('Day21.in').readlines()]"
   ]
  },
  {
   "cell_type": "code",
   "execution_count": 2,
   "id": "d255a6f9-5ced-4cee-b471-3b0cc4e65be6",
   "metadata": {},
   "outputs": [
    {
     "name": "stdout",
     "output_type": "stream",
     "text": [
      "The scramble of abcdefgh is gcedfahb.\n"
     ]
    }
   ],
   "source": [
    "# regex expressions\n",
    "re_position = r'swap position (\\d+) with position (\\d+)'\n",
    "re_letter = r'swap letter (\\w+) with letter (\\w+)'\n",
    "re_rotate = r'rotate (left|right) (\\d+) steps?'\n",
    "re_rletter = r'rotate based on position of letter (\\w+)'\n",
    "re_reverse = r'reverse positions (\\d+ )through (\\d+)'\n",
    "re_move = r'move position (\\d+) to position (\\d+)'\n",
    "\n",
    "# Two lambda functions to make following program easier\n",
    "swap = lambda s, m, M: s[:m] + s[M] + s[m+1:M] + s[m] + s[M+1:]\n",
    "rotate = lambda s, n: s[n % len(s):] + s[:n % len(s)]\n",
    "\n",
    "def scramble(s, instruction):\n",
    "    \"\"\"\n",
    "    Takes a string s and an instruction, performs that instruction\n",
    "    and then returns s\n",
    "    \"\"\"\n",
    "    if (x:= re.match(re_position, instruction)):\n",
    "        m, M = sorted([int(x[1]), int(x[2])])\n",
    "        return swap(s, m, M)\n",
    "    elif (x:= re.match(re_letter, instruction)):\n",
    "        m, M = sorted([s.index(x[1]), s.index(x[2])])\n",
    "        return swap(s, m, M)\n",
    "    elif (x:= re.match(re_rotate, instruction)):\n",
    "        steps = int(x[2])\n",
    "        if x[1] == 'left':\n",
    "            return rotate(s, steps)\n",
    "        else:\n",
    "            return rotate(s, -steps)\n",
    "    elif (x:= re.match(re_rletter, instruction)):\n",
    "        idx = s.index(x[1])\n",
    "        steps = idx + (1 if idx < 4 else 2)\n",
    "        return rotate(s, -steps)\n",
    "    elif (x:= re.match(re_reverse, instruction)):\n",
    "        m, M = sorted([int(x[1]), int(x[2])])\n",
    "        return s[:m] + s[m:M+1][::-1] + s[M+1:]\n",
    "    elif (x:= re.match(re_move, instruction)):\n",
    "        idx, pos = int(x[1]), int(x[2])\n",
    "        char = s[idx]\n",
    "        s = s.replace(char, '')\n",
    "        return s[:pos] + char + s[pos:]\n",
    "\n",
    "# Perform instructions on inputs\n",
    "for instruction in inputs:\n",
    "    password = scramble(password, instruction)\n",
    "\n",
    "# Solution\n",
    "print(f\"The scramble of {original} is {password}.\")"
   ]
  },
  {
   "cell_type": "markdown",
   "id": "ac54554a-7494-43dd-9ed3-9b963608fdd9",
   "metadata": {},
   "source": [
    "---\n",
    "\n",
    "## Part Two\n",
    "\n",
    "You scrambled the password correctly, but you discover that you can't actually modify the password file on the system. You'll need to un-scramble one of the existing passwords by reversing the scrambling process.\n",
    "\n",
    "What is the un-scrambled version of the scrambled password `fbgdceah`?\n",
    "\n",
    "---"
   ]
  },
  {
   "cell_type": "code",
   "execution_count": 3,
   "id": "cb59b7a5-2d99-4212-b321-fc2d0758175a",
   "metadata": {},
   "outputs": [
    {
     "name": "stdout",
     "output_type": "stream",
     "text": [
      "The scramble of fbgdceah is hegbdcfa.\n"
     ]
    }
   ],
   "source": [
    "# un_rletter unscrambles the rotate based on letter instruction\n",
    "un_rletter = lambda n: n - (list(range(1,8,2)) + list(range(2,8,2)) + [0]).index(n)\n",
    "\n",
    "def unscramble(s, instruction):\n",
    "    \"\"\"\n",
    "    takes a string s and an instruction and performs the inverse of that instruction\n",
    "    \"\"\"\n",
    "    if (x:= re.match(re_position, instruction)):\n",
    "        m, M = sorted([int(x[1]), int(x[2])])\n",
    "        return swap(s, m, M)\n",
    "    elif (x:= re.match(re_letter, instruction)):\n",
    "        m, M = sorted([s.index(x[1]), s.index(x[2])])\n",
    "        return swap(s, m, M)\n",
    "    elif (x:= re.match(re_rotate, instruction)):\n",
    "        steps = int(x[2])\n",
    "        if x[1] == 'right':\n",
    "            return rotate(s, steps)\n",
    "        else:\n",
    "            return rotate(s, -steps)\n",
    "    elif (x:= re.match(re_rletter, instruction)):\n",
    "        idx = s.index(x[1])\n",
    "        steps = un_rletter(idx)\n",
    "        return rotate(s, steps)\n",
    "    elif (x:= re.match(re_reverse, instruction)):\n",
    "        m, M = sorted([int(x[1]), int(x[2])])\n",
    "        return s[:m] + s[m:M+1][::-1] + s[M+1:]\n",
    "    elif (x:= re.match(re_move, instruction)):\n",
    "        pos, idx = int(x[1]), int(x[2])\n",
    "        char = s[idx]\n",
    "        s = s.replace(char, '')\n",
    "        return s[:pos] + char + s[pos:]\n",
    "\n",
    "# Re-initialise\n",
    "original = password = 'fbgdceah'\n",
    "\n",
    "# Unscramble password\n",
    "for instruction in reversed(inputs):\n",
    "    password = unscramble(password, instruction)\n",
    "\n",
    "# Solution\n",
    "print(f\"The scramble of {original} is {password}.\")"
   ]
  },
  {
   "cell_type": "markdown",
   "id": "416250fc-6102-4b97-a946-68af64aa7ae2",
   "metadata": {},
   "source": [
    "---"
   ]
  }
 ],
 "metadata": {
  "kernelspec": {
   "display_name": "Python 3",
   "language": "python",
   "name": "python3"
  },
  "language_info": {
   "codemirror_mode": {
    "name": "ipython",
    "version": 3
   },
   "file_extension": ".py",
   "mimetype": "text/x-python",
   "name": "python",
   "nbconvert_exporter": "python",
   "pygments_lexer": "ipython3",
   "version": "3.8.2"
  }
 },
 "nbformat": 4,
 "nbformat_minor": 5
}
