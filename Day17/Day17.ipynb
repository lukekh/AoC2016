{
 "cells": [
  {
   "cell_type": "markdown",
   "id": "56a2fba7-25cd-42de-bdaa-06aa10d5b325",
   "metadata": {},
   "source": [
    "# Day 17: Two Steps Forward\n",
    "\n",
    "## Part One\n",
    "\n",
    "You're trying to access a secure vault protected by a `4x4` grid of small rooms connected by doors. You start in the top-left room (marked `S`), and you can access the vault (marked `V`) once you reach the bottom-right room:\n",
    "\n",
    "```\n",
    "#########\n",
    "#S| | | #\n",
    "#-#-#-#-#\n",
    "# | | | #\n",
    "#-#-#-#-#\n",
    "# | | | #\n",
    "#-#-#-#-#\n",
    "# | | |  \n",
    "####### V\n",
    "```\n",
    "\n",
    "Fixed walls are marked with `#`, and doors are marked with `-` or `|`.\n",
    "\n",
    "The doors in your current room are either open or closed (and locked) based on the hexadecimal MD5 hash of a passcode (your puzzle input) followed by a sequence of uppercase characters representing the path you have taken so far (`U` for up, `D` for down, `L` for left, and `R` for right).\n",
    "\n",
    "Only the first four characters of the hash are used; they represent, respectively, the doors up, down, left, and right from your current position. Any `b`, `c`, `d`, `e`, or `f` means that the corresponding door is open; any other character (any number or `a`) means that the corresponding door is closed and locked.\n",
    "\n",
    "To access the vault, all you need to do is reach the bottom-right room; reaching this room opens the vault and all doors in the maze.\n",
    "\n",
    "For example, suppose the passcode is `hijkl`. Initially, you have taken no steps, and so your path is empty: you simply find the MD5 hash of `hijkl` alone. The first four characters of this hash are `ced9`, which indicate that up is open (`c`), down is open (`e`), left is open (`d`), and right is closed and locked (`9`). Because you start in the top-left corner, there are no \"up\" or \"left\" doors to be open, so your only choice is down.\n",
    "\n",
    "Next, having gone only one step (down, or `D`), you find the hash of `hijklD`. This produces `f2bc`, which indicates that you can go back up, left (but that's a wall), or right. Going right means hashing `hijklDR` to get `5745` - all doors closed and locked. However, going up instead is worthwhile: even though it returns you to the room you started in, your path would then be `DU`, opening a different set of doors.\n",
    "\n",
    "After going `DU` (and then hashing `hijklDU` to get `528e`), only the right door is open; after going `DUR`, all doors lock. (Fortunately, your actual passcode is not `hijkl`).\n",
    "\n",
    "Passcodes actually used by Easter Bunny Vault Security do allow access to the vault if you know the right path. For example:\n",
    "\n",
    "* If your passcode were `ihgpwlah`, the shortest path would be `DDRRRD`.\n",
    "\n",
    "* With `kglvqrro`, the shortest path would be `DDUDRLRRUDRD`.\n",
    "\n",
    "* With `ulqzkmiv`, the shortest would be `DRURDRUDDLLDLUURRDULRLDUUDDDRR`.\n",
    "\n",
    "Given your vault's passcode, what is the shortest path (the actual path, not just the length) to reach the vault?"
   ]
  },
  {
   "cell_type": "code",
   "execution_count": 1,
   "id": "83a2dc18-2516-491c-a32a-640b69645d1a",
   "metadata": {},
   "outputs": [],
   "source": [
    "from hashlib import md5\n",
    "\n",
    "inputs = 'pxxbnzuo'\n",
    "path = ''\n",
    "open_door = {'b', 'c', 'd', 'e', 'f'}\n",
    "directions = ['U', 'D', 'L', 'R']\n",
    "\n",
    "encoding = 'utf-8'\n",
    "md5_h = lambda x, i: md5((x+str(i)).encode(encoding)).hexdigest()[:4]\n",
    "valid = lambda x, i: [d for j, d in enumerate(directions) if (md5_h(x,i)[j] in open_door)]\n",
    "in_bounds = lambda p: (0 <= p.count('D') - p.count('U') < 4) and (0 <= p.count('R') - p.count('L') < 4)\n",
    "complete = lambda p: (p.count('D') - p.count('U') == 3) and (p.count('R') - p.count('L') == 3)"
   ]
  },
  {
   "cell_type": "code",
   "execution_count": 2,
   "id": "172b7ce3-efc5-4865-bf26-fd5f43386319",
   "metadata": {},
   "outputs": [
    {
     "name": "stdout",
     "output_type": "stream",
     "text": [
      "The shortest path to the vault is: RDULRDDRRD.\n"
     ]
    }
   ],
   "source": [
    "def explore(passcode, paths=None):\n",
    "    \"\"\"\n",
    "    Given a passcode this function recursiveley explores the grid until it reaches the vault\n",
    "    and returns the first path that is valid using a breadth first search algorithm.\n",
    "    \"\"\"\n",
    "    # Initialise\n",
    "    options = set()\n",
    "    if paths is None:\n",
    "        paths = {''}\n",
    "    \n",
    "    # Iterate over paths\n",
    "    for path in paths:\n",
    "        for option in valid(passcode, path):\n",
    "            p = path + option\n",
    "            if complete(p):\n",
    "                # Return once first solution is found\n",
    "                return p\n",
    "            elif in_bounds(p):\n",
    "                options.add(p)\n",
    "    \n",
    "    # Recurse if no solution\n",
    "    return explore(passcode, options)\n",
    "\n",
    "# Solution\n",
    "print(f\"The shortest path to the vault is: {explore(inputs)}.\")"
   ]
  },
  {
   "cell_type": "markdown",
   "id": "679a5dd4-99d6-4f9b-85ea-ecafeac63a8e",
   "metadata": {},
   "source": [
    "---\n",
    "\n",
    "### Part Two\n",
    "\n",
    "You're curious how robust this security solution really is, and so you decide to find longer and longer paths which still provide access to the vault. You remember that paths always end the first time they reach the bottom-right room (that is, they can never pass through it, only end in it).\n",
    "\n",
    "For example:\n",
    "\n",
    "* If your passcode were `ihgpwlah`, the longest path would take `370` steps.\n",
    "\n",
    "* With `kglvqrro`, the longest path would be `492` steps long.\n",
    "\n",
    "* With `ulqzkmiv`, the longest path would be `830` steps long.\n",
    "\n",
    "* What is the length of the longest path that reaches the vault?\n",
    "\n",
    "---"
   ]
  },
  {
   "cell_type": "code",
   "execution_count": 3,
   "id": "7e3ce482-eebd-456b-98ec-c3f6257af37a",
   "metadata": {},
   "outputs": [
    {
     "name": "stdout",
     "output_type": "stream",
     "text": [
      "The longest valid path to the vault is length 752.\n"
     ]
    }
   ],
   "source": [
    "def explore_all(passcode, paths=None, lengths=None):\n",
    "    \"\"\"\n",
    "    Given a passcode this function recursiveley explores the grid and returns \n",
    "    the length of the last valid path that reaches the goal.\n",
    "    \"\"\"\n",
    "    # Initialise\n",
    "    options = set()\n",
    "    if paths is None:\n",
    "        paths = {''}\n",
    "    if lengths is None:\n",
    "        lengths = {}\n",
    "    \n",
    "    # Iterate over paths\n",
    "    for path in paths:\n",
    "        for option in valid(passcode, path):\n",
    "            p = path + option\n",
    "            if complete(p):\n",
    "                # Add path to dictionary if it finds vault\n",
    "                lengths[p] = len(p)\n",
    "            elif in_bounds(p):\n",
    "                options.add(p)\n",
    "    \n",
    "    # Continue searching if there are still valid paths, else end search\n",
    "    if options:\n",
    "        return explore_all(passcode, options, lengths)\n",
    "    else:\n",
    "        return max(lengths.values())\n",
    "\n",
    "# Solution\n",
    "print(f\"The longest valid path to the vault is length {explore_all(inputs):,}.\")"
   ]
  },
  {
   "cell_type": "markdown",
   "id": "10970c0a-675f-42a1-a1e0-8e1b9f5bf744",
   "metadata": {},
   "source": [
    "---"
   ]
  }
 ],
 "metadata": {
  "kernelspec": {
   "display_name": "Python 3",
   "language": "python",
   "name": "python3"
  },
  "language_info": {
   "codemirror_mode": {
    "name": "ipython",
    "version": 3
   },
   "file_extension": ".py",
   "mimetype": "text/x-python",
   "name": "python",
   "nbconvert_exporter": "python",
   "pygments_lexer": "ipython3",
   "version": "3.8.2"
  }
 },
 "nbformat": 4,
 "nbformat_minor": 5
}
