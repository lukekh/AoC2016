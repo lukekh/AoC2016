{
 "cells": [
  {
   "cell_type": "markdown",
   "metadata": {},
   "source": [
    "# Day 1: Bathroom Security\n",
    "\n",
    "## Part One:\n",
    "\n",
    "You arrive at Easter Bunny Headquarters under cover of darkness. However, you left in such a rush that you forgot to use the bathroom! Fancy office buildings like this one usually have keypad locks on their bathrooms, so you search the front desk for the code.\n",
    "\n",
    "\"In order to improve security,\" the document you find says, \"bathroom codes will no longer be written down. Instead, please memorize and follow the procedure below to access the bathrooms.\"\n",
    "\n",
    "The document goes on to explain that each button to be pressed can be found by starting on the previous button and moving to adjacent buttons on the keypad: `U` moves up, `D` moves down, `L` moves left, and `R` moves right. Each line of instructions corresponds to one button, starting at the previous button (or, for the first line, **the \"5\" button**); press whatever button you're on at the end of each line. If a move doesn't lead to a button, ignore it.\n",
    "\n",
    "You can't hold it much longer, so you decide to figure out the code as you walk to the bathroom. You picture a keypad like this:\n",
    "\n",
    "```\n",
    "1 2 3\n",
    "4 5 6\n",
    "7 8 9\n",
    "```\n",
    "\n",
    "Suppose your instructions are:\n",
    "\n",
    "```\n",
    "ULL\n",
    "RRDDD\n",
    "LURDL\n",
    "UUUUD\n",
    "```\n",
    "\n",
    "* You start at \"5\" and move up (to \"2\"), left (to \"1\"), and left (you can't, and stay on \"1\"), so the first button is 1.\n",
    "\n",
    "* Starting from the previous button (\"1\"), you move right twice (to \"3\") and then down three times (stopping at \"9\" after two moves and ignoring the third), ending up with 9.\n",
    "\n",
    "* Continuing from \"9\", you move left, up, right, down, and left, ending with 8.\n",
    "\n",
    "* Finally, you move up four times (stopping at \"2\"), then down once, ending with 5.\n",
    "\n",
    "So, in this example, the bathroom code is 1985.\n",
    "\n",
    "Your puzzle input is the instructions from the document you found at the front desk. What is the bathroom code?\n",
    "\n",
    "---"
   ]
  },
  {
   "cell_type": "code",
   "execution_count": 1,
   "metadata": {},
   "outputs": [],
   "source": [
    "#Initialise\n",
    "inputs = [[*i[:-1]]  for i in open(\"Day02.in\").readlines()]\n",
    "starting_position = 5"
   ]
  },
  {
   "cell_type": "code",
   "execution_count": 2,
   "metadata": {},
   "outputs": [
    {
     "name": "stdout",
     "output_type": "stream",
     "text": [
      "The bathroom code is 45973.\n"
     ]
    }
   ],
   "source": [
    "# This dictionary will perform the necessary mappings given a position and an instruction\n",
    "d = {\n",
    "    1: {'R':2, 'U':1, 'L':1, 'D':4},\n",
    "    2: {'R':3, 'U':2, 'L':1, 'D':5},\n",
    "    3: {'R':3, 'U':3, 'L':2, 'D':6},\n",
    "    4: {'R':5, 'U':1, 'L':4, 'D':7},\n",
    "    5: {'R':6, 'U':2, 'L':4, 'D':8},\n",
    "    6: {'R':6, 'U':3, 'L':5, 'D':9},\n",
    "    7: {'R':8, 'U':4, 'L':7, 'D':7},\n",
    "    8: {'R':9, 'U':5, 'L':7, 'D':8},\n",
    "    9: {'R':9, 'U':6, 'L':8, 'D':9}\n",
    "}\n",
    "\n",
    "# Set blank code and starting position\n",
    "code = []\n",
    "position = starting_position\n",
    "\n",
    "for instructions in inputs:\n",
    "    for instruction in instructions:\n",
    "        position = d[position][instruction]\n",
    "    # New input line corresponds to new input in code\n",
    "    code.append(str(position))\n",
    "    \n",
    "print(f\"The bathroom code is {''.join(code)}.\")"
   ]
  },
  {
   "cell_type": "markdown",
   "metadata": {},
   "source": [
    "---\n",
    "\n",
    "## Part Two:\n",
    "\n",
    "You finally arrive at the bathroom (it's a several minute walk from the lobby so visitors can behold the many fancy conference rooms and water coolers on this floor) and go to punch in the code. Much to your bladder's dismay, the keypad is not at all like you imagined it. Instead, you are confronted with the result of hundreds of man-hours of bathroom-keypad-design meetings:\n",
    "\n",
    "```\n",
    "    1\n",
    "  2 3 4\n",
    "5 6 7 8 9\n",
    "  A B C\n",
    "    D\n",
    "```\n",
    "\n",
    "You still start at \"`5`\" and stop when you're at an edge, but given the same instructions as above, the outcome is very different:\n",
    "\n",
    "You start at \"`5`\" and don't move at all (up and left are both edges), ending at `5`.\n",
    "Continuing from \"`5`\", you move right twice and down three times (through \"`6`\", \"`7`\", \"`B`\", \"`D`\", \"`D`\"), ending at `D`.\n",
    "Then, from \"`D`\", you move five more times (through \"`D`\", \"`B`\", \"`C`\", \"`C`\", \"`B`\"), ending at `B`.\n",
    "Finally, after five more moves, you end at `3`.\n",
    "So, given the actual keypad layout, the code would be `5DB3`.\n",
    "\n",
    "Using the same instructions in your puzzle input, what is the correct bathroom code?\n",
    "\n",
    "---"
   ]
  },
  {
   "cell_type": "code",
   "execution_count": 3,
   "metadata": {},
   "outputs": [
    {
     "name": "stdout",
     "output_type": "stream",
     "text": [
      "The bathroom code is 27CA4.\n"
     ]
    }
   ],
   "source": [
    "# This dictionary will perform the necessary mappings given a position and an instruction\n",
    "d = {\n",
    "     1 : {'R':1, 'U':1, 'L':1, 'D':3},\n",
    "     2 : {'R':3, 'U':2, 'L':2, 'D':6},\n",
    "     3 : {'R':4, 'U':1, 'L':2, 'D':7},\n",
    "     4 : {'R':4, 'U':4, 'L':3, 'D':8},\n",
    "     5 : {'R':6, 'U':5, 'L':5, 'D':5},\n",
    "     6 : {'R':7, 'U':2, 'L':5, 'D':'A'},\n",
    "     7 : {'R':8, 'U':3, 'L':6, 'D':'B'},\n",
    "     8 : {'R':9, 'U':4, 'L':7, 'D':'C'},\n",
    "     9 : {'R':9, 'U':9, 'L':8, 'D':9},\n",
    "    'A': {'R':'B', 'U':6, 'L':'A', 'D':'A'},\n",
    "    'B': {'R':'C', 'U':7, 'L':'A', 'D':'D'},\n",
    "    'C': {'R':'C', 'U':8, 'L':'B', 'D':'C'},\n",
    "    'D': {'R':'D', 'U':'B', 'L':'D', 'D':'D'},\n",
    "}\n",
    "\n",
    "# Set blank code and starting position\n",
    "code = []\n",
    "position = starting_position\n",
    "\n",
    "for instructions in inputs:\n",
    "    for instruction in instructions:\n",
    "        position = d[position][instruction]\n",
    "    # New input line corresponds to new input in code\n",
    "    code.append(str(position))\n",
    "    \n",
    "print(f\"The bathroom code is {''.join(code)}.\")"
   ]
  },
  {
   "cell_type": "markdown",
   "metadata": {},
   "source": [
    "---"
   ]
  }
 ],
 "metadata": {
  "kernelspec": {
   "display_name": "Python 3",
   "language": "python",
   "name": "python3"
  },
  "language_info": {
   "codemirror_mode": {
    "name": "ipython",
    "version": 3
   },
   "file_extension": ".py",
   "mimetype": "text/x-python",
   "name": "python",
   "nbconvert_exporter": "python",
   "pygments_lexer": "ipython3",
   "version": "3.7.8"
  }
 },
 "nbformat": 4,
 "nbformat_minor": 4
}
