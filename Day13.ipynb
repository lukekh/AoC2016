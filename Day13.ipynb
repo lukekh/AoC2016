{
 "cells": [
  {
   "cell_type": "markdown",
   "id": "010d917b-9cdd-4c0a-b0c1-7c9d73a27c62",
   "metadata": {},
   "source": [
    "# Day 13: A Maze of Twisty Little Cubicles\n",
    "\n",
    "## Part One\n",
    "\n",
    "You arrive at the first floor of this new building to discover a much less welcoming environment than the shiny atrium of the last one. Instead, you are in a maze of twisty little cubicles, all alike.\n",
    "\n",
    "Every location in this area is addressed by a pair of non-negative integers `(x,y)`. Each such coordinate is either a wall or an open space. You can't move diagonally. The cube maze starts at `0,0` and seems to extend infinitely toward positive `x` and `y`; negative values are invalid, as they represent a location outside the building. You are in a small waiting area at `1,1`.\n",
    "\n",
    "While it seems chaotic, a nearby morale-boosting poster explains, the layout is actually quite logical. You can determine whether a given `x,y` coordinate will be a wall or an open space using a simple system:\n",
    "\n",
    "* Find `x*x + 3*x + 2*x*y + y + y*y`.\n",
    "\n",
    "* Add the office designer's favorite number (your puzzle input).\n",
    "\n",
    "* Find the binary representation of that sum; count the number of bits that are 1.\n",
    "\n",
    "* If the number of bits that are 1 is even, it's an open space.\n",
    "\n",
    "* If the number of bits that are 1 is odd, it's a wall.\n",
    "\n",
    "For example, if the office designer's favorite number were `10`, drawing walls as `#` and open spaces as `.`, the corner of the building containing `0,0` would look like this:\n",
    "\n",
    "```\n",
    "  0123456789\n",
    "0 .#.####.##\n",
    "1 ..#..#...#\n",
    "2 #....##...\n",
    "3 ###.#.###.\n",
    "4 .##..#..#.\n",
    "5 ..##....#.\n",
    "6 #...##.###\n",
    "```\n",
    "\n",
    "Now, suppose you wanted to reach `7,4`. The shortest route you could take is marked as `O`:\n",
    "```\n",
    "  0123456789\n",
    "0 .#.####.##\n",
    "1 .O#..#...#\n",
    "2 #OOO.##...\n",
    "3 ###O#.###.\n",
    "4 .##OO#OO#.\n",
    "5 ..##OOO.#.\n",
    "6 #...##.###\n",
    "```\n",
    "\n",
    "Thus, reaching `7,4` would take a minimum of `11` steps (starting from your current location, `1,1`).\n",
    "\n",
    "What is the fewest number of steps required for you to reach `31,39`?\n",
    "\n",
    "---"
   ]
  },
  {
   "cell_type": "code",
   "execution_count": 1,
   "id": "1b370377-4f5e-4504-803a-bb8eb51221c6",
   "metadata": {},
   "outputs": [],
   "source": [
    "# Initialise\n",
    "inputs = 1364\n",
    "end = (31,39)\n",
    "positions = {(1,1)}\n",
    "states = {(1,1)}\n",
    "steps = 0\n",
    "\n",
    "# f returns 1 if (x,y) is open space and 0 if it's a wall\n",
    "f = lambda x, y: (list(bin(x**2 + 3*x + 2*x*y + y + y**2 + inputs)[2:]).count('1') + 1) % 2\n",
    "# search returns neighbouring tiles that are open space\n",
    "search = lambda x, y: [i for i in ((x+1,y),(x-1,y),(x,y+1),(x,y-1)) if f(*i) and (i[0]>=0 and i[1]>=0)]"
   ]
  },
  {
   "cell_type": "code",
   "execution_count": 2,
   "id": "7bfe56a0-b61d-44b1-a393-d9438239a22f",
   "metadata": {},
   "outputs": [
    {
     "name": "stdout",
     "output_type": "stream",
     "text": [
      "It takes a minimum of 86 steps to get to (31, 39).\n"
     ]
    }
   ],
   "source": [
    "# Keep walking if end not in positions\n",
    "while end not in positions:\n",
    "    new = sum([search(*i) for i in states], [])\n",
    "    states = set([state for state in new if state not in positions])\n",
    "    positions |= states\n",
    "    steps += 1\n",
    "\n",
    "# Solution\n",
    "print(f\"It takes a minimum of {steps:,} steps to get to {end}.\")"
   ]
  },
  {
   "cell_type": "markdown",
   "id": "783633f3-9d6c-451e-86a6-e9bf6317240e",
   "metadata": {},
   "source": [
    "---\n",
    "\n",
    "## Part Two\n",
    "\n",
    "How many locations (distinct x,y coordinates, including your starting location) can you reach in at most 50 steps?\n",
    "\n",
    "---"
   ]
  },
  {
   "cell_type": "code",
   "execution_count": 3,
   "id": "27771aba-324e-428f-9d3e-2a9ac1fa4818",
   "metadata": {},
   "outputs": [
    {
     "name": "stdout",
     "output_type": "stream",
     "text": [
      "You can reach 127 distinct locations in 50 steps.\n"
     ]
    }
   ],
   "source": [
    "# Re-initialise problem\n",
    "states = {(1,1)}\n",
    "positions = {(1,1)}\n",
    "steps = 0\n",
    "\n",
    "# Run for 50 steps\n",
    "while steps < 50:\n",
    "    new = sum([search(*i) for i in states], [])\n",
    "    states = set([state for state in new if state not in positions])\n",
    "    positions |= states\n",
    "    steps += 1\n",
    "\n",
    "# Solution\n",
    "print(f\"You can reach {len(positions)} distinct locations in 50 steps.\")"
   ]
  },
  {
   "cell_type": "markdown",
   "id": "95327fa9-4a57-42dd-ba6f-158ae274b82b",
   "metadata": {},
   "source": [
    "---"
   ]
  }
 ],
 "metadata": {
  "kernelspec": {
   "display_name": "Python 3",
   "language": "python",
   "name": "python3"
  },
  "language_info": {
   "codemirror_mode": {
    "name": "ipython",
    "version": 3
   },
   "file_extension": ".py",
   "mimetype": "text/x-python",
   "name": "python",
   "nbconvert_exporter": "python",
   "pygments_lexer": "ipython3",
   "version": "3.8.2"
  }
 },
 "nbformat": 4,
 "nbformat_minor": 5
}
