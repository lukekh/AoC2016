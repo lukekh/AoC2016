{
 "cells": [
  {
   "cell_type": "markdown",
   "id": "2b92807c-d4db-40c5-9621-5f2c87a7cc22",
   "metadata": {},
   "source": [
    "# Day 3: Squares With Three Sides\n",
    "\n",
    "## Part One\n",
    "\n",
    "Now that you can think clearly, you move deeper into the labyrinth of hallways and office furniture that makes up this part of Easter Bunny HQ. This must be a graphic design department; the walls are covered in specifications for triangles.\n",
    "\n",
    "Or are they?\n",
    "\n",
    "The design document gives the side lengths of each triangle it describes, but... `5 10 25`? Some of these aren't triangles. You can't help but mark the impossible ones.\n",
    "\n",
    "In a valid triangle, the sum of any two sides must be larger than the remaining side. For example, the \"triangle\" given above is impossible, because `5 + 10` is not larger than `25`.\n",
    "\n",
    "In your puzzle input, how many of the listed triangles are possible?\n",
    "\n",
    "---"
   ]
  },
  {
   "cell_type": "code",
   "execution_count": 1,
   "id": "0f45b687-886d-4b4d-8799-37d27d72a115",
   "metadata": {},
   "outputs": [],
   "source": [
    "# Initialise\n",
    "inputs = [(int(i[:5]), int(i[5:10]), int(i[10:15])) for i in open('Day03.in').readlines()]"
   ]
  },
  {
   "cell_type": "code",
   "execution_count": 2,
   "id": "a6b9bb79-ff57-4685-8b2c-444fce8cf165",
   "metadata": {},
   "outputs": [
    {
     "name": "stdout",
     "output_type": "stream",
     "text": [
      "There are 982 possible triangles in the puzzle input.\n"
     ]
    }
   ],
   "source": [
    "# Write a quick test to check if candidate is a triangle\n",
    "test = lambda x,y,z: (x + y > z) & (x + z > y) & (y + z > x)\n",
    "\n",
    "print(f\"There are {len([i for i in inputs if test(*i)]):,} possible triangles in the puzzle input.\")"
   ]
  },
  {
   "cell_type": "markdown",
   "id": "6ed461b3-03bb-46e6-ae48-61a5d5b9678b",
   "metadata": {},
   "source": [
    "---\n",
    "\n",
    "## Part Two:\n",
    "\n",
    "Now that you've helpfully marked up their design documents, it occurs to you that triangles are specified in groups of three vertically. Each set of three numbers in a column specifies a triangle. Rows are unrelated.\n",
    "\n",
    "For example, given the following specification, numbers with the same hundreds digit would be part of the same triangle:\n",
    "\n",
    "```\n",
    "101 301 501\n",
    "102 302 502\n",
    "103 303 503\n",
    "201 401 601\n",
    "202 402 602\n",
    "203 403 603\n",
    "```\n",
    "\n",
    "In your puzzle input, and instead reading by columns, how many of the listed triangles are possible?\n",
    "\n",
    "---"
   ]
  },
  {
   "cell_type": "code",
   "execution_count": 3,
   "id": "7aa29c9f-a224-456f-865a-cce83b24ee64",
   "metadata": {},
   "outputs": [
    {
     "name": "stdout",
     "output_type": "stream",
     "text": [
      "There are 1,826 possible triangles in the puzzle input.\n"
     ]
    }
   ],
   "source": [
    "# Use inputs to quickly iterate over columns to find triangles\n",
    "triangles = [\n",
    "    t for l in [\n",
    "        zip(r1,r2,r3) for r1, r2, r3 in zip(inputs[0:-2:3], inputs[1:-1:3], inputs[2::3])\n",
    "    ] for t in l\n",
    "]    \n",
    "\n",
    "print(f\"There are {len([i for i in triangles if test(*i)]):,} possible triangles in the puzzle input.\")"
   ]
  },
  {
   "cell_type": "markdown",
   "id": "135b277f-d023-4b5c-b45f-355ed367b405",
   "metadata": {},
   "source": [
    "---"
   ]
  }
 ],
 "metadata": {
  "kernelspec": {
   "display_name": "Python 3",
   "language": "python",
   "name": "python3"
  },
  "language_info": {
   "codemirror_mode": {
    "name": "ipython",
    "version": 3
   },
   "file_extension": ".py",
   "mimetype": "text/x-python",
   "name": "python",
   "nbconvert_exporter": "python",
   "pygments_lexer": "ipython3",
   "version": "3.8.2"
  }
 },
 "nbformat": 4,
 "nbformat_minor": 5
}
