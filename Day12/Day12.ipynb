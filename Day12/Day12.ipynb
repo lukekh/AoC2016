{
 "cells": [
  {
   "cell_type": "markdown",
   "id": "4ae4d1d2-5567-45d5-ab0d-5cfa8c18db8f",
   "metadata": {},
   "source": [
    "# Day 12: Leonardo's Monorail\n",
    "\n",
    "## Part One\n",
    "\n",
    "You finally reach the top floor of this building: a garden with a slanted glass ceiling. Looks like there are no more stars to be had.\n",
    "\n",
    "While sitting on a nearby bench amidst some tiger lilies, you manage to decrypt some of the files you extracted from the servers downstairs.\n",
    "\n",
    "According to these documents, Easter Bunny HQ isn't just this building - it's a collection of buildings in the nearby area. They're all connected by a local monorail, and there's another building not far from here! Unfortunately, being night, the monorail is currently not operating.\n",
    "\n",
    "You remotely connect to the monorail control systems and discover that the boot sequence expects a password. The password-checking logic (your puzzle input) is easy to extract, but the code it uses is strange: it's assembunny code designed for the new computer you just assembled. You'll have to execute the code and get the password.\n",
    "\n",
    "The assembunny code you've extracted operates on four registers (`a`, `b`, `c`, and `d`) that start at `0` and can hold any integer. However, it seems to make use of only a few instructions:\n",
    "\n",
    "* `cpy x y` copies `x` (either an integer or the value of a register) into register `y`.\n",
    "\n",
    "* `inc x` increases the value of register `x` by one.\n",
    "\n",
    "* `dec x` decreases the value of register x by one.\n",
    "\n",
    "* `jnz x y` jumps to an instruction `y` away (positive means forward; negative means backward), but only if `x` is not zero.\n",
    "\n",
    "The `jnz` instruction moves relative to itself: an offset of -1 would continue at the previous instruction, while an offset of 2 would skip over the next instruction.\n",
    "\n",
    "For example:\n",
    "\n",
    "```\n",
    "cpy 41 a\n",
    "inc a\n",
    "inc a\n",
    "dec a\n",
    "jnz a 2\n",
    "dec a\n",
    "```\n",
    "\n",
    "The above code would set register `a` to `41`, increase its value by `2`, decrease its value by `1`, and then skip the last dec `a` (because `a` is not zero, so the `jnz a 2` skips it), leaving register `a` at `42`. When you move past the last instruction, the program halts.\n",
    "\n",
    "After executing the assembunny code in your puzzle input, what value is left in register `a`?\n",
    "\n",
    "---"
   ]
  },
  {
   "cell_type": "code",
   "execution_count": 1,
   "id": "a6b38089-9491-41b3-b5bb-3cc1cfa6f57c",
   "metadata": {},
   "outputs": [],
   "source": [
    "# Initialise\n",
    "inputs = [i[:-1].split(' ') for i in open('Day12.in').readlines()]\n",
    "register = {\n",
    "    char: 0 for char in ('a', 'b', 'c', 'd')\n",
    "}"
   ]
  },
  {
   "cell_type": "code",
   "execution_count": 2,
   "id": "7f97d736-f4b8-4fb6-b804-7d2357e221be",
   "metadata": {},
   "outputs": [
    {
     "name": "stdout",
     "output_type": "stream",
     "text": [
      "The value 317,993 is left in register a.\n"
     ]
    }
   ],
   "source": [
    "def assembunny(reg, cmds, cursor=0):\n",
    "    \"\"\"\n",
    "    Takes a register and commands then parses and runs the commands. It assumes cursor \n",
    "    starts at 0 but may be set as a option.\n",
    "    \n",
    "    :returns: None\n",
    "    \"\"\"\n",
    "    # This function will parse a command (from cmds) at the given cursor position\n",
    "    def parse(cursor):\n",
    "        cmd, x, y, *_ = cmds[cursor] + [None]\n",
    "        if cmd == 'cpy':\n",
    "            if x in register:\n",
    "                reg[y] = reg[x]\n",
    "            else:\n",
    "                reg[y] = int(x)\n",
    "        elif cmd == 'jnz':\n",
    "            # Put -1 in here because we'll increment the cursor at the end\n",
    "            if x in register:\n",
    "                cursor += int(y) - 1 if reg[x] else 0\n",
    "            else:\n",
    "                cursor += int(y) - 1 if int(x) else 0\n",
    "        else:\n",
    "            reg[x] += 1 if cmd == 'inc' else -1\n",
    "        return cursor + 1\n",
    "    \n",
    "    # Run cmds until cursor exceeds len(cmds)\n",
    "    while cursor < len(cmds):\n",
    "        cursor = parse(cursor)\n",
    "\n",
    "# Run inputs through assumbunny\n",
    "assembunny(register, inputs)\n",
    "\n",
    "# Solution\n",
    "print(f\"The value {register['a']:,} is left in register a.\")"
   ]
  },
  {
   "cell_type": "markdown",
   "id": "3d7cee41-6834-4250-b690-e57b7240ad11",
   "metadata": {},
   "source": [
    "---\n",
    "\n",
    "# Part Two\n",
    "\n",
    "As you head down the fire escape to the monorail, you notice it didn't start; register `c` needs to be initialized to the position of the ignition key.\n",
    "\n",
    "If you instead initialize register `c` to be `1`, what value is now left in register `a`?\n",
    "\n",
    "---"
   ]
  },
  {
   "cell_type": "code",
   "execution_count": 3,
   "id": "c237977d-2fc8-41ff-aecf-d67ec5509516",
   "metadata": {},
   "outputs": [
    {
     "name": "stdout",
     "output_type": "stream",
     "text": [
      "The value 9,227,647 is left in register a.\n"
     ]
    }
   ],
   "source": [
    "# Re-initialise\n",
    "register = {\n",
    "    char: 0 for char in ('a', 'b', 'c', 'd')\n",
    "}\n",
    "register['c'] = 1\n",
    "\n",
    "# Run inputs through assumbunny\n",
    "assembunny(register, inputs)\n",
    "\n",
    "# Solution\n",
    "print(f\"The value {register['a']:,} is left in register a.\")"
   ]
  },
  {
   "cell_type": "markdown",
   "id": "c74cc252-5074-40ef-8840-9bbc1df59376",
   "metadata": {},
   "source": [
    "---"
   ]
  }
 ],
 "metadata": {
  "kernelspec": {
   "display_name": "Python 3",
   "language": "python",
   "name": "python3"
  },
  "language_info": {
   "codemirror_mode": {
    "name": "ipython",
    "version": 3
   },
   "file_extension": ".py",
   "mimetype": "text/x-python",
   "name": "python",
   "nbconvert_exporter": "python",
   "pygments_lexer": "ipython3",
   "version": "3.8.2"
  }
 },
 "nbformat": 4,
 "nbformat_minor": 5
}
