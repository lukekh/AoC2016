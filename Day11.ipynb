{
 "cells": [
  {
   "cell_type": "markdown",
   "metadata": {},
   "source": [
    "# Day 11: Radioisotope Thermoelectric Generators\n",
    "\n",
    "## Part One\n",
    "\n",
    "You come upon a column of four floors that have been entirely sealed off from the rest of the building except for a small dedicated lobby. There are some radiation warnings and a big sign which reads \"Radioisotope Testing Facility\".\n",
    "\n",
    "According to the project status board, this facility is currently being used to experiment with [Radioisotope Thermoelectric Generators](https://en.wikipedia.org/wiki/Radioisotope_thermoelectric_generator) (RTGs, or simply \"generators\") that are designed to be paired with specially-constructed microchips. Basically, an RTG is a highly radioactive rock that generates electricity through heat.\n",
    "\n",
    "The experimental RTGs have poor radiation containment, so they're dangerously radioactive. The chips are prototypes and don't have normal radiation shielding, but they do have the ability to generate an electromagnetic radiation shield when powered. Unfortunately, they can only be powered by their corresponding RTG. An RTG powering a microchip is still dangerous to other microchips.\n",
    "\n",
    "In other words, if a chip is ever left in the same area as another RTG, and it's not connected to its own RTG, the chip will be fried. Therefore, it is assumed that you will follow procedure and keep chips connected to their corresponding RTG when they're in the same room, and away from other RTGs otherwise.\n",
    "\n",
    "These microchips sound very interesting and useful to your current activities, and you'd like to try to retrieve them. The fourth floor of the facility has an assembling machine which can make a self-contained, shielded computer for you to take with you - that is, if you can bring it all of the RTGs and microchips.\n",
    "\n",
    "Within the radiation-shielded part of the facility (in which it's safe to have these pre-assembly RTGs), there is an elevator that can move between the four floors. Its capacity rating means it can carry at most yourself and two RTGs or microchips in any combination. (They're rigged to some heavy diagnostic equipment - the assembling machine will detach it for you.) As a security measure, the elevator will only function if it contains at least one RTG or microchip. The elevator always stops on each floor to recharge, and this takes long enough that the items within it and the items on that floor can irradiate each other. (You can prevent this if a Microchip and its Generator end up on the same floor in this way, as they can be connected while the elevator is recharging.)\n",
    "\n",
    "You make some notes of the locations of each component of interest (your puzzle input). Before you don a hazmat suit and start moving things around, you'd like to have an idea of what you need to do.\n",
    "\n",
    "When you enter the containment area, you and the elevator will start on the first floor.\n",
    "\n",
    "For example, suppose the isolated area has the following arrangement:\n",
    "\n",
    "```\n",
    "The first floor contains a hydrogen-compatible microchip and a lithium-compatible microchip.\n",
    "The second floor contains a hydrogen generator.\n",
    "The third floor contains a lithium generator.\n",
    "The fourth floor contains nothing relevant.\n",
    "```\n",
    "\n",
    "As a diagram (`F#` for a Floor number, `E` for Elevator, `H` for Hydrogen, `L` for Lithium, `M` for Microchip, and `G` for Generator), the initial state looks like this:\n",
    "\n",
    "```\n",
    "F4 .  .  .  .  .  \n",
    "F3 .  .  .  LG .  \n",
    "F2 .  HG .  .  .  \n",
    "F1 E  .  HM .  LM \n",
    "```\n",
    "\n",
    "Then, to get everything up to the assembling machine on the fourth floor, the following steps could be taken:\n",
    "\n",
    "* Bring the Hydrogen-compatible Microchip to the second floor, which is safe because it can get power from the Hydrogen Generator:\n",
    "```\n",
    "F4 .  .  .  .  .  \n",
    "F3 .  .  .  LG .  \n",
    "F2 E  HG HM .  .  \n",
    "F1 .  .  .  .  LM \n",
    "```\n",
    "\n",
    "\n",
    "* Bring both Hydrogen-related items to the third floor, which is safe because the Hydrogen-compatible microchip is getting power from its generator:\n",
    "```\n",
    "F4 .  .  .  .  .  \n",
    "F3 E  HG HM LG .  \n",
    "F2 .  .  .  .  .  \n",
    "F1 .  .  .  .  LM \n",
    "```\n",
    "\n",
    "\n",
    "* Leave the Hydrogen Generator on floor three, but bring the Hydrogen-compatible Microchip back down with you so you can still use the elevator:\n",
    "```\n",
    "F4 .  .  .  .  .  \n",
    "F3 .  HG .  LG .  \n",
    "F2 E  .  HM .  .  \n",
    "F1 .  .  .  .  LM\n",
    "```\n",
    "\n",
    "\n",
    "* At the first floor, grab the Lithium-compatible Microchip, which is safe because Microchips don't affect each other:\n",
    "```\n",
    "F4 .  .  .  .  .  \n",
    "F3 .  HG .  LG .  \n",
    "F2 .  .  .  .  .  \n",
    "F1 E  .  HM .  LM \n",
    "```\n",
    "\n",
    "\n",
    "* Bring both Microchips up one floor, where there is nothing to fry them:\n",
    "```\n",
    "F4 .  .  .  .  .  \n",
    "F3 .  HG .  LG .  \n",
    "F2 E  .  HM .  LM \n",
    "F1 .  .  .  .  .  \n",
    "```\n",
    "\n",
    "\n",
    "* Bring both Microchips up again to floor three, where they can be temporarily connected to their corresponding generators while the elevator recharges, preventing either of them from being fried:\n",
    "```\n",
    "F4 .  .  .  .  .  \n",
    "F3 E  HG HM LG LM \n",
    "F2 .  .  .  .  .  \n",
    "F1 .  .  .  .  .  \n",
    "```\n",
    "\n",
    "\n",
    "* Bring both Microchips to the fourth floor:\n",
    "```\n",
    "F4 E  .  HM .  LM \n",
    "F3 .  HG .  LG .  \n",
    "F2 .  .  .  .  .  \n",
    "F1 .  .  .  .  .  \n",
    "```\n",
    "\n",
    "\n",
    "* Leave the Lithium-compatible microchip on the fourth floor, but bring the Hydrogen-compatible one so you can still use the elevator; this is safe because although the Lithium Generator is on the destination floor, you can connect Hydrogen-compatible microchip to the Hydrogen Generator there:\n",
    "```\n",
    "F4 .  .  .  .  LM \n",
    "F3 E  HG HM LG .  \n",
    "F2 .  .  .  .  .  \n",
    "F1 .  .  .  .  .  \n",
    "```\n",
    "\n",
    "\n",
    "* Bring both Generators up to the fourth floor, which is safe because you can connect the Lithium-compatible Microchip to the Lithium Generator upon arrival:\n",
    "```\n",
    "F4 E  HG .  LG LM \n",
    "F3 .  .  HM .  .  \n",
    "F2 .  .  .  .  .  \n",
    "F1 .  .  .  .  .  \n",
    "```\n",
    "\n",
    "\n",
    "* Bring the Lithium Microchip with you to the third floor so you can use the elevator:\n",
    "```\n",
    "F4 .  HG .  LG .  \n",
    "F3 E  .  HM .  LM \n",
    "F2 .  .  .  .  .  \n",
    "F1 .  .  .  .  .  \n",
    "```\n",
    "\n",
    "\n",
    "* Bring both Microchips to the fourth floor:\n",
    "```\n",
    "F4 E  HG HM LG LM \n",
    "F3 .  .  .  .  .  \n",
    "F2 .  .  .  .  .  \n",
    "F1 .  .  .  .  .  \n",
    "```\n",
    "\n",
    "\n",
    "In this arrangement, it takes 11 steps to collect all of the objects at the fourth floor for assembly. (Each elevator stop counts as one step, even if nothing is added to or removed from it.)\n",
    "\n",
    "In your situation, what is the minimum number of steps required to bring all of the objects to the fourth floor?\n",
    "\n",
    "---"
   ]
  },
  {
   "cell_type": "code",
   "execution_count": 161,
   "metadata": {},
   "outputs": [],
   "source": [
    "# Initialise\n",
    "import numpy as np\n",
    "import re\n",
    "inputs = open('Day11.in').read()"
   ]
  },
  {
   "cell_type": "code",
   "execution_count": null,
   "metadata": {},
   "outputs": [],
   "source": [
    "class Facility:\n",
    "    \n",
    "    # regex patterns\n",
    "    re_Nothing = r'^The (\\w+) floor contains nothing relevant.'\n",
    "    re_Something = r'^The (\\w+) floor contains (a (\\w+)(\\-compatible microchip| generator)(?:, )?(\\s?and )?)+\\.'\n",
    "    re_Relevant = r'a (\\w+)(-compatible microchip| generator)(?:, |\\s? and )?'\n",
    "    \n",
    "    def __init__(self, notes=('The first floor contains nothing relevant.',):\n",
    "        \n",
    "        \n",
    "    \n",
    "    @staticmethod\n",
    "    def parse(notes):\n",
    "        return ('A', 'B')"
   ]
  },
  {
   "cell_type": "code",
   "execution_count": 3,
   "metadata": {},
   "outputs": [
    {
     "data": {
      "text/plain": [
       "3"
      ]
     },
     "execution_count": 3,
     "metadata": {},
     "output_type": "execute_result"
    }
   ],
   "source": [
    "len({1:1, 2:'bread', 'cat':'dog'})"
   ]
  },
  {
   "cell_type": "code",
   "execution_count": 164,
   "metadata": {},
   "outputs": [],
   "source": [
    "re_Something = r'^The (\\w+) floor contains (a (\\w+)(\\-compatible microchip| generator)(?:, )?(\\s?and )?)+\\.'\n",
    "re_Relevant = r'a (\\w+)(-compatible microchip| generator)(?:, |\\s?and )?'\n",
    "s = 'The second floor contains a polonium-compatible microchip and a promethium-compatible microchip.'\n",
    "t = 'The first floor contains a polonium generator, a thulium generator, a thulium-compatible microchip, a promethium generator, a ruthenium generator, a ruthenium-compatible microchip, a cobalt generator, and a cobalt-compatible microchip.'"
   ]
  },
  {
   "cell_type": "code",
   "execution_count": 171,
   "metadata": {},
   "outputs": [
    {
     "data": {
      "text/plain": [
       "<re.Match object; span=(0, 235), match='The first floor contains a polonium generator, a >"
      ]
     },
     "execution_count": 171,
     "metadata": {},
     "output_type": "execute_result"
    }
   ],
   "source": [
    "re.search(re_Something, inputs)"
   ]
  },
  {
   "cell_type": "code",
   "execution_count": 170,
   "metadata": {},
   "outputs": [
    {
     "data": {
      "text/plain": [
       "'The first floor contains a polonium generator, a thulium generator, a thulium-compatible microchip, a promethium generator, a ruthenium generator, a ruthenium-compatible microchip, a cobalt generator, and a cobalt-compatible microchip.\\nThe second floor contains a polonium-compatible microchip and a promethium-compatible microchip.\\nThe third floor contains nothing relevant.\\nThe fourth floor contains nothing relevant.\\n'"
      ]
     },
     "execution_count": 170,
     "metadata": {},
     "output_type": "execute_result"
    }
   ],
   "source": [
    "inputs"
   ]
  },
  {
   "cell_type": "code",
   "execution_count": null,
   "metadata": {},
   "outputs": [],
   "source": []
  }
 ],
 "metadata": {
  "kernelspec": {
   "display_name": "Python 3",
   "language": "python",
   "name": "python3"
  },
  "language_info": {
   "codemirror_mode": {
    "name": "ipython",
    "version": 3
   },
   "file_extension": ".py",
   "mimetype": "text/x-python",
   "name": "python",
   "nbconvert_exporter": "python",
   "pygments_lexer": "ipython3",
   "version": "3.7.8"
  }
 },
 "nbformat": 4,
 "nbformat_minor": 5
}
