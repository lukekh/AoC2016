{
 "cells": [
  {
   "cell_type": "markdown",
   "id": "112a3d77-42d5-453f-9d4a-185c2f4223bd",
   "metadata": {},
   "source": [
    "# Day 6: Signals and Noise\n",
    "## Part One\n",
    "\n",
    "Something is jamming your communications with Santa. Fortunately, your signal is only partially jammed, and protocol in situations like this is to switch to a simple repetition code to get the message through.\n",
    "\n",
    "In this model, the same message is sent repeatedly. You've recorded the repeating message signal (your puzzle input), but the data seems quite corrupted - almost too badly to recover. Almost.\n",
    "\n",
    "All you need to do is figure out which character is most frequent for each position. For example, suppose you had recorded the following messages:\n",
    "\n",
    "```\n",
    "eedadn\n",
    "drvtee\n",
    "eandsr\n",
    "raavrd\n",
    "atevrs\n",
    "tsrnev\n",
    "sdttsa\n",
    "rasrtv\n",
    "nssdts\n",
    "ntnada\n",
    "svetve\n",
    "tesnvt\n",
    "vntsnd\n",
    "vrdear\n",
    "dvrsen\n",
    "enarar\n",
    "```\n",
    "\n",
    "The most common character in the first column is `e`; in the second, `a`; in the third, `s`, and so on. Combining these characters returns the error-corrected message, `easter`.\n",
    "\n",
    "Given the recording in your puzzle input, what is the error-corrected version of the message being sent?\n",
    "\n",
    "---"
   ]
  },
  {
   "cell_type": "code",
   "execution_count": 1,
   "id": "38149005-661d-41af-a88b-ee3ed9aa8bc3",
   "metadata": {},
   "outputs": [],
   "source": [
    "# Initialise\n",
    "inputs = [l[:-1] for l in open('Day06.in').readlines()]\n",
    "n = len(inputs[0])"
   ]
  },
  {
   "cell_type": "code",
   "execution_count": 2,
   "id": "1a781540-7d04-444d-b99c-90281a276046",
   "metadata": {},
   "outputs": [
    {
     "name": "stdout",
     "output_type": "stream",
     "text": [
      "The error-corrected version of the message is 'kjxfwkdh'.\n"
     ]
    }
   ],
   "source": [
    "# Given a column, this function returns the maximally appearing letter\n",
    "error_correction = lambda col: max([(char, col.count(char)) for char in set(col)], key=lambda x: x[1])[0]\n",
    "\n",
    "# Solution\n",
    "print(f\"The error-corrected version of the message is '{''.join([error_correction([row[i] for row in inputs]) for i in range(n)])}'.\")"
   ]
  },
  {
   "cell_type": "markdown",
   "id": "fbb21031-f6d7-4c3a-805c-7ac960900c26",
   "metadata": {},
   "source": [
    "---\n",
    "\n",
    "## Part Two\n",
    "\n",
    "Of course, that would be the message - if you hadn't agreed to use a modified repetition code instead.\n",
    "\n",
    "In this modified code, the sender instead transmits what looks like random data, but for each character, the character they actually want to send is slightly less likely than the others. Even after signal-jamming noise, you can look at the letter distributions in each column and choose the least common letter to reconstruct the original message.\n",
    "\n",
    "In the above example, the least common character in the first column is a; in the second, d, and so on. Repeating this process for the remaining characters produces the original message, advent.\n",
    "\n",
    "Given the recording in your puzzle input and this new decoding methodology, what is the original message that Santa is trying to send?\n",
    "\n",
    "---"
   ]
  },
  {
   "cell_type": "code",
   "execution_count": 3,
   "id": "1f78626f-2115-4bb1-8929-7aac970d4d8b",
   "metadata": {},
   "outputs": [
    {
     "name": "stdout",
     "output_type": "stream",
     "text": [
      "The error-corrected version of the message is 'xrwcsnps'.\n"
     ]
    }
   ],
   "source": [
    "# Revised error correction uses min\n",
    "error_correction = lambda col: min([(char, col.count(char)) for char in set(col)], key=lambda x: x[1])[0]\n",
    "\n",
    "# Solution\n",
    "print(f\"The error-corrected version of the message is '{''.join([error_correction([row[i] for row in inputs]) for i in range(n)])}'.\")"
   ]
  },
  {
   "cell_type": "markdown",
   "id": "fe1f6a9a-f7d7-45dd-a009-f33496d3ab8f",
   "metadata": {},
   "source": [
    "---"
   ]
  }
 ],
 "metadata": {
  "kernelspec": {
   "display_name": "Python 3",
   "language": "python",
   "name": "python3"
  },
  "language_info": {
   "codemirror_mode": {
    "name": "ipython",
    "version": 3
   },
   "file_extension": ".py",
   "mimetype": "text/x-python",
   "name": "python",
   "nbconvert_exporter": "python",
   "pygments_lexer": "ipython3",
   "version": "3.8.2"
  }
 },
 "nbformat": 4,
 "nbformat_minor": 5
}
