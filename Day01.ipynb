{
 "cells": [
  {
   "cell_type": "markdown",
   "metadata": {},
   "source": [
    "# Day 1: No Time for a Taxicab\n",
    "\n",
    "## Part One:\n",
    "\n",
    "Santa's sleigh uses a very high-precision clock to guide its movements, and the clock's oscillator is regulated by stars. Unfortunately, the stars have been stolen... by the Easter Bunny. To save Christmas, Santa needs you to retrieve all fifty stars by December 25th.\n",
    "\n",
    "Collect stars by solving puzzles. Two puzzles will be made available on each day in the Advent calendar; the second puzzle is unlocked when you complete the first. Each puzzle grants one star. Good luck!\n",
    "\n",
    "You're airdropped near Easter Bunny Headquarters in a city somewhere. \"Near\", unfortunately, is as close as you can get - the instructions on the Easter Bunny Recruiting Document the Elves intercepted start here, and nobody had time to work them out further.\n",
    "\n",
    "The Document indicates that you should start at the given coordinates (where you just landed) and face North. Then, follow the provided sequence: either turn left (`L`) or right (`R`) 90 degrees, then walk forward the given number of blocks, ending at a new intersection.\n",
    "\n",
    "There's no time to follow such ridiculous instructions on foot, though, so you take a moment and work out the destination. Given that you can only walk on the street grid of the city, how far is the shortest path to the destination?\n",
    "\n",
    "For example:\n",
    "\n",
    "* Following `R2, L3` leaves you 2 blocks East and 3 blocks North, or 5 blocks away.\n",
    "\n",
    "* `R2, R2, R2` leaves you 2 blocks due South of your starting position, which is 2 blocks away.\n",
    "\n",
    "* `R5, L5, R5, R3` leaves you 12 blocks away.\n",
    "\n",
    "How many blocks away is Easter Bunny HQ?\n",
    "\n",
    "---"
   ]
  },
  {
   "cell_type": "code",
   "execution_count": 1,
   "metadata": {},
   "outputs": [],
   "source": [
    "# Initialise\n",
    "inputs = [(-1j if i.strip()[0] == 'R' else 1j, int(i.strip()[1:]))  for i in open(\"Day01.in\").read().split(',')]\n",
    "starting_position = 0 + 0j\n",
    "direction = 1\n",
    "position = starting_position"
   ]
  },
  {
   "cell_type": "code",
   "execution_count": 2,
   "metadata": {},
   "outputs": [
    {
     "name": "stdout",
     "output_type": "stream",
     "text": [
      "Easter Bunny HQ is 239 blocks away\n"
     ]
    }
   ],
   "source": [
    "# Cumulate direction and add on each number of blocks in that direction\n",
    "for theta, n in inputs:\n",
    "    direction *= theta\n",
    "    position += direction*n\n",
    "    \n",
    "print(f\"Easter Bunny HQ is {abs(position.real) + abs(position.imag):.0f} blocks away\")"
   ]
  },
  {
   "cell_type": "markdown",
   "metadata": {},
   "source": [
    "---\n",
    "## Part Two:\n",
    "\n",
    "Then, you notice the instructions continue on the back of the Recruiting Document. Easter Bunny HQ is actually at the first location you visit twice.\n",
    "\n",
    "For example, if your instructions are `R8, R4, R4, R8`, the first location you visit twice is 4 blocks away, due East.\n",
    "\n",
    "How many blocks away is the first location you visit twice?\n",
    "\n",
    "---"
   ]
  },
  {
   "cell_type": "code",
   "execution_count": 3,
   "metadata": {},
   "outputs": [
    {
     "name": "stdout",
     "output_type": "stream",
     "text": [
      "Easter Bunny HQ is 141 blocks away\n"
     ]
    }
   ],
   "source": [
    "# Re-initialise\n",
    "S = {0}\n",
    "direction = 1\n",
    "position = starting_position\n",
    "exit = False\n",
    "\n",
    "for theta, n in inputs:\n",
    "    direction *= theta\n",
    "    for i in range(n):\n",
    "        position += direction\n",
    "        if position in S:\n",
    "            exit = True\n",
    "            break\n",
    "        else:\n",
    "            S.add(position)\n",
    "    if exit:\n",
    "        break\n",
    "    \n",
    "print(f\"Easter Bunny HQ is {abs(position.real) + abs(position.imag):.0f} blocks away\")"
   ]
  },
  {
   "cell_type": "markdown",
   "metadata": {},
   "source": [
    "---"
   ]
  }
 ],
 "metadata": {
  "kernelspec": {
   "display_name": "Python 3",
   "language": "python",
   "name": "python3"
  },
  "language_info": {
   "codemirror_mode": {
    "name": "ipython",
    "version": 3
   },
   "file_extension": ".py",
   "mimetype": "text/x-python",
   "name": "python",
   "nbconvert_exporter": "python",
   "pygments_lexer": "ipython3",
   "version": "3.7.8"
  }
 },
 "nbformat": 4,
 "nbformat_minor": 4
}
