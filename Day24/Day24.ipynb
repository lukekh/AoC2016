{
 "cells": [
  {
   "cell_type": "markdown",
   "id": "a160e60f-1cd8-43e3-a152-97a688656bc5",
   "metadata": {},
   "source": [
    "# Day 24: Air Duct Spelunking\n",
    "\n",
    "## Part One\n",
    "You've finally met your match; the doors that provide access to the roof are locked tight, and all of the controls and related electronics are inaccessible. You simply can't reach them.\n",
    "\n",
    "The robot that cleans the air ducts, however, can.\n",
    "\n",
    "It's not a very fast little robot, but you reconfigure it to be able to interface with some of the exposed wires that have been routed through the HVAC system. If you can direct it to each of those locations, you should be able to bypass the security controls.\n",
    "\n",
    "You extract the duct layout for this area from some blueprints you acquired and create a map with the relevant locations marked (your puzzle input). `0` is your current location, from which the cleaning robot embarks; the other numbers are (in no particular order) the locations the robot needs to visit at least once each. Walls are marked as `#`, and open passages are marked as `.`. Numbers behave like open passages.\n",
    "\n",
    "For example, suppose you have a map like the following:\n",
    "\n",
    "```\n",
    "###########\n",
    "#0.1.....2#\n",
    "#.#######.#\n",
    "#4.......3#\n",
    "###########\n",
    "```\n",
    "\n",
    "To reach all of the points of interest as quickly as possible, you would have the robot take the following path:\n",
    "\n",
    "* `0` to `4` (2 steps)\n",
    "\n",
    "* `4` to `1` (4 steps; it can't move diagonally)\n",
    "\n",
    "* `1` to `2` (6 steps)\n",
    "\n",
    "* `2` to `3` (2 steps)\n",
    "\n",
    "Since the robot isn't very fast, you need to find it the shortest route. This path is the fewest steps (in the above example, a total of `14`) required to start at `0` and then visit every other location at least once.\n",
    "\n",
    "Given your actual map, and starting from location `0`, what is the fewest number of steps required to visit every non-`0` number marked on the map at least once?\n",
    "\n",
    "---"
   ]
  },
  {
   "cell_type": "code",
   "execution_count": 1,
   "id": "762890b3-ea2d-4d30-9dac-f0862601d70d",
   "metadata": {},
   "outputs": [],
   "source": [
    "import numpy as np\n",
    "\n",
    "inputs = open('Day24.in').read().split('\\n')[:-1]"
   ]
  },
  {
   "cell_type": "code",
   "execution_count": 2,
   "id": "5943e1f5-ed4b-4d63-915a-10e282caa96d",
   "metadata": {},
   "outputs": [
    {
     "name": "stdout",
     "output_type": "stream",
     "text": [
      "It takes 500 steps to traverse the shortest path visiting nodes in this order:\n",
      "0 -> 3 -> 2 -> 1 -> 5 -> 6 -> 7 -> 4\n"
     ]
    }
   ],
   "source": [
    "# Initialise map, M, and position of air ducts, ducts.\n",
    "M = np.zeros((len(inputs), len(inputs[0]))).astype(int)\n",
    "ducts = {}\n",
    "\n",
    "# Fill in map and find duct coords\n",
    "for x, row in enumerate(inputs):\n",
    "    for y, val in enumerate(row):\n",
    "        M[x,y] = 1 if val == '#' else 0\n",
    "        if val not in ('#', '.'):\n",
    "            ducts[int(val)] = (x,y)\n",
    "\n",
    "def legal(m, c):\n",
    "    \"\"\"\n",
    "    Takes a map, m, and a coordinate, c, and returns the legal tuples you can move to\n",
    "    \"\"\"\n",
    "    l = set()\n",
    "    x, y = c\n",
    "    \n",
    "    for i in range(4):\n",
    "        dx, dy = int((1j**i).real), int((1j**i).imag)\n",
    "        if m[x+dx, y+dy] == 0:\n",
    "            l.add((x+dx, y+dy))\n",
    "\n",
    "    return l\n",
    "\n",
    "def a_search(Map, start, goal):\n",
    "    \"\"\"\n",
    "    Takes map m and coordinates start, goal and returns length between coords.\n",
    "    \n",
    "    Input c1 as a tuple to avoid pointer issues\n",
    "    \"\"\"\n",
    "    cost = 0\n",
    "    visited = {start}\n",
    "    \n",
    "    def iterate(f, v, m=Map, g=goal):\n",
    "        new = set()\n",
    "        for c in f:\n",
    "            new |= legal(m, c) - v\n",
    "        \n",
    "        return new\n",
    "    \n",
    "    front = visited.copy()\n",
    "    \n",
    "    while goal not in front:\n",
    "        new = iterate(front, visited)\n",
    "        visited |= new\n",
    "        front = new\n",
    "        cost += 1\n",
    "    \n",
    "    return cost\n",
    "\n",
    "# Init number of ducts and dictionary for edge lengths of graph, G\n",
    "n = max(ducts.keys())+1\n",
    "G = {}\n",
    "\n",
    "# Get edge lengths (distance between ducts)\n",
    "for i in range(n):\n",
    "    for j in range(i+1,n):\n",
    "        G[(i,j)] = G[(j,i)] = a_search(M, ducts[i], ducts[j])\n",
    "        \n",
    "# Solve problem\n",
    "def recursive_walk(G, walk=[0], next_=set(range(1,8)), cost=0):\n",
    "    \"\"\"\n",
    "    Takes graph edges G, starts at 0 and and finds the optimal route visiting\n",
    "    each node once. It is just a simple exhaustive search but it quite quick for\n",
    "    8 nodes.\n",
    "    \"\"\"\n",
    "    if next_:\n",
    "        costs = [recursive_walk(G, walk + [i], next_ - {i}, cost + G[(walk[-1],i)]) for i in next_]\n",
    "        return min(costs)\n",
    "    else:\n",
    "        return cost, walk\n",
    "\n",
    "# Solution\n",
    "c, w = recursive_walk(G)\n",
    "print(f\"It takes {c} steps to traverse the shortest path visiting nodes in this order:\\n{' -> '.join([str(i) for i in w])}\")"
   ]
  },
  {
   "cell_type": "markdown",
   "id": "6ffb9d4c-afc0-4ec9-994e-97a014fd7d3e",
   "metadata": {},
   "source": [
    "---\n",
    "\n",
    "# Part Two\n",
    "Of course, if you leave the cleaning robot somewhere weird, someone is bound to notice.\n",
    "\n",
    "What is the fewest number of steps required to start at `0`, visit every non-`0` number marked on the map at least once, and then return to `0`?\n",
    "\n",
    "---"
   ]
  },
  {
   "cell_type": "code",
   "execution_count": 3,
   "id": "690c6e5c-8f3f-43a5-87c6-9c0e51173138",
   "metadata": {},
   "outputs": [
    {
     "name": "stdout",
     "output_type": "stream",
     "text": [
      "It takes 748 steps to traverse the shortest loop visiting nodes in this order:\n",
      "0 -> 1 -> 5 -> 4 -> 7 -> 6 -> 2 -> 3 -> 0\n"
     ]
    }
   ],
   "source": [
    "def recursive_return(G, walk=[0], next_=set(range(1,8)), cost=0):\n",
    "    \"\"\"\n",
    "    Takes graph edges G, starts at 0 and and finds the optimal route visiting\n",
    "    each node once and returning to 0. It is just a simple exhaustive search but it \n",
    "    quite quick for 8 nodes.\n",
    "    \"\"\"\n",
    "    if next_:\n",
    "        costs = [recursive_return(G, walk + [i], next_ - {i}, cost + G[tuple(sorted((walk[-1],i)))]) for i in next_]\n",
    "        return min(costs)\n",
    "    else:\n",
    "        return cost + G[(0,walk[-1])], walk + [0]\n",
    "\n",
    "# Solution\n",
    "c, w = recursive_return(G)\n",
    "print(f\"It takes {c} steps to traverse the shortest loop visiting nodes in this order:\\n{' -> '.join([str(i) for i in w])}\")"
   ]
  },
  {
   "cell_type": "markdown",
   "id": "810fae9e-aad5-4b8c-b82e-aade0e2206cf",
   "metadata": {},
   "source": [
    "---"
   ]
  }
 ],
 "metadata": {
  "kernelspec": {
   "display_name": "Python 3",
   "language": "python",
   "name": "python3"
  },
  "language_info": {
   "codemirror_mode": {
    "name": "ipython",
    "version": 3
   },
   "file_extension": ".py",
   "mimetype": "text/x-python",
   "name": "python",
   "nbconvert_exporter": "python",
   "pygments_lexer": "ipython3",
   "version": "3.8.2"
  }
 },
 "nbformat": 4,
 "nbformat_minor": 5
}
