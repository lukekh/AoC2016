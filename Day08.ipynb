{
 "cells": [
  {
   "cell_type": "markdown",
   "id": "8d49fce4-0b7b-4493-aa47-47b541dfa174",
   "metadata": {},
   "source": [
    "# Day 8: Two-Factor Authentication\n",
    "\n",
    "## Part One\n",
    "\n",
    "You come across a door implementing what you can only assume is an implementation of two-factor authentication after a long game of requirements telephone.\n",
    "\n",
    "To get past the door, you first swipe a keycard (no problem; there was one on a nearby desk). Then, it displays a code on a little screen, and you type that code on a keypad. Then, presumably, the door unlocks.\n",
    "\n",
    "Unfortunately, the screen has been smashed. After a few minutes, you've taken everything apart and figured out how it works. Now you just have to work out what the screen would have displayed.\n",
    "\n",
    "The magnetic strip on the card you swiped encodes a series of instructions for the screen; these instructions are your puzzle input. The screen is 50 pixels wide and 6 pixels tall, all of which start off, and is capable of three somewhat peculiar operations:\n",
    "\n",
    "* `rect AxB` turns on all of the pixels in a rectangle at the top-left of the screen which is `A` wide and `B` tall.\n",
    "\n",
    "* `rotate row y=A by B` shifts all of the pixels in row `A` (0 is the top row) right by `B` pixels. Pixels that would fall off the right end appear at the left end of the row.\n",
    "\n",
    "* `rotate column x=A by B` shifts all of the pixels in column `A` (0 is the left column) down by `B` pixels. Pixels that would fall off the bottom appear at the top of the column.\n",
    "\n",
    "For example, here is a simple sequence on a smaller screen:\n",
    "\n",
    "* `rect 3x2` creates a small rectangle in the top-left corner:\n",
    "\n",
    "```\n",
    "###....\n",
    "###....\n",
    ".......\n",
    "```\n",
    "\n",
    "* `rotate column x=1 by 1` rotates the second column down by one pixel:\n",
    "\n",
    "```\n",
    "#.#....\n",
    "###....\n",
    ".#.....\n",
    "```\n",
    "\n",
    "* `rotate row y=0 by 4` rotates the top row right by four pixels:\n",
    "\n",
    "```\n",
    "....#.#\n",
    "###....\n",
    ".#.....\n",
    "```\n",
    "\n",
    "* `rotate column x=1 by 1` again rotates the second column down by one pixel, causing the bottom pixel to wrap back to the top:\n",
    "\n",
    "```\n",
    ".#..#.#\n",
    "#.#....\n",
    ".#.....\n",
    "```\n",
    "\n",
    "As you can see, this display technology is extremely powerful, and will soon dominate the tiny-code-displaying-screen market. That's what the advertisement on the back of the display tries to convince you, anyway.\n",
    "\n",
    "There seems to be an intermediate check of the voltage used by the display: after you swipe your card, if the screen did work, how many pixels should be lit?\n",
    "\n",
    "---"
   ]
  },
  {
   "cell_type": "code",
   "execution_count": 1,
   "id": "af12d45c-a356-4eaf-adf0-b0f50133e707",
   "metadata": {},
   "outputs": [],
   "source": [
    "# Initialise\n",
    "import numpy as np\n",
    "\n",
    "inputs = [i[:-1] for i in open('Day08.in').readlines()]\n",
    "shape = (6, 50)"
   ]
  },
  {
   "cell_type": "code",
   "execution_count": 2,
   "id": "7dea3a3e-94e0-44ed-8eef-f1929e6d509d",
   "metadata": {},
   "outputs": [
    {
     "name": "stdout",
     "output_type": "stream",
     "text": [
      "After all inputs processed, there should be 116 pixels lit.\n",
      "------------------------------------------------------------\n",
      "╔══════════════════════════════════════════════════╗\n",
      "║▓  ▓ ▓▓▓   ▓▓    ▓▓ ▓▓▓▓ ▓    ▓▓▓   ▓▓  ▓▓▓▓ ▓▓▓▓ ║\n",
      "║▓  ▓ ▓  ▓ ▓  ▓    ▓ ▓    ▓    ▓  ▓ ▓  ▓ ▓       ▓ ║\n",
      "║▓  ▓ ▓  ▓ ▓  ▓    ▓ ▓▓▓  ▓    ▓▓▓  ▓    ▓▓▓    ▓  ║\n",
      "║▓  ▓ ▓▓▓  ▓  ▓    ▓ ▓    ▓    ▓  ▓ ▓    ▓     ▓   ║\n",
      "║▓  ▓ ▓    ▓  ▓ ▓  ▓ ▓    ▓    ▓  ▓ ▓  ▓ ▓    ▓    ║\n",
      "║ ▓▓  ▓     ▓▓   ▓▓  ▓    ▓▓▓▓ ▓▓▓   ▓▓  ▓▓▓▓ ▓▓▓▓ ║\n",
      "╚══════════════════════════════════════════════════╝\n",
      "------------------------------------------------------------\n"
     ]
    }
   ],
   "source": [
    "class Screen:\n",
    "    \"\"\"\n",
    "    Screen is a class that emulates the screen from the problem.\n",
    "    \n",
    "    It can parse the string commands from inputs using the parse method which\n",
    "    uses the rect, rrow and rcol to perform the commands described. Use count\n",
    "    to find number of pixels lit. Use print, str, repr to get display.\n",
    "    \"\"\"\n",
    "    def __init__(self, rows=6, columns=50):\n",
    "        self.shape = (rows, columns)\n",
    "        self.grid = np.zeros(shape=(rows, columns)).astype('int')\n",
    "    \n",
    "    def __str__(self):\n",
    "        s = ''\n",
    "        s += '╔' + '═'*self.shape[1] + '╗\\n'\n",
    "        for row in self.grid:\n",
    "            s += '║'\n",
    "            for col in row:\n",
    "                s += '▓' if col else ' '\n",
    "            s += '║\\n'\n",
    "        s += '╚' + '═'*self.shape[1] + '╝'\n",
    "        return s\n",
    "    \n",
    "    def __repr__(self):\n",
    "        return str(self)\n",
    "    \n",
    "    def shape(self):\n",
    "        return self.grid.shape\n",
    "    \n",
    "    def rect(self, A, B):\n",
    "        self.grid[:B,:A] = 1\n",
    "    \n",
    "    def rrow(self, B, n):\n",
    "        m = n % self.shape[1]\n",
    "        self.grid[B, :] = [*self.grid[B, -m:], *self.grid[B, :-m]]\n",
    "    \n",
    "    def rcol(self, A, n):\n",
    "        m = n % self.shape[0]\n",
    "        self.grid[:, A] = [*self.grid[-m:, A], *self.grid[:-m, A]]\n",
    "\n",
    "    def parse(self, command):\n",
    "        \"\"\"\n",
    "        Input command to alter screen, returns None.\n",
    "        \n",
    "        e.g. s.parse('rect 5x4')\n",
    "        \"\"\"\n",
    "        if 'rect' in command:\n",
    "            A, B = command.split(' ')[-1].split('x')\n",
    "            self.rect(int(A), int(B))\n",
    "        elif 'rotate row' in command:\n",
    "            B, n = command.split('=')[-1].split(' by ')\n",
    "            self.rrow(int(B), int(n))\n",
    "        elif 'rotate col' in command:\n",
    "            A, n = command.split('=')[-1].split(' by ')\n",
    "            self.rcol(int(A), int(n))\n",
    "    \n",
    "    def count(self):\n",
    "        return sum(sum(self.grid))\n",
    "\n",
    "# Initialise a screen\n",
    "s = Screen()\n",
    "\n",
    "# Parse inputs\n",
    "for i in inputs:\n",
    "    s.parse(i)\n",
    "\n",
    "# Solution\n",
    "print(f\"After all inputs processed, there should be {s.count()} pixels lit.\")\n",
    "print('-'*60)\n",
    "print(s)\n",
    "print('-'*60)"
   ]
  },
  {
   "cell_type": "markdown",
   "id": "8e5a9690-c512-4f15-bca8-bfcb3e86e05a",
   "metadata": {},
   "source": [
    "---\n",
    "\n",
    "## Part Two\n",
    "\n",
    "You notice that the screen is only capable of displaying capital letters; in the font it uses, each letter is 5 pixels wide and 6 tall.\n",
    "\n",
    "After you swipe your card, what code is the screen trying to display?\n",
    "\n",
    "---"
   ]
  },
  {
   "cell_type": "code",
   "execution_count": 3,
   "id": "cb47cdb3-e28e-4050-9b52-2e0163b8401b",
   "metadata": {},
   "outputs": [
    {
     "name": "stdout",
     "output_type": "stream",
     "text": [
      "It looks like the screen is trying to display 'UPOJFLBCEZ'.\n"
     ]
    }
   ],
   "source": [
    "# Solution\n",
    "print(\"It looks like the screen is trying to display 'UPOJFLBCEZ'.\")"
   ]
  },
  {
   "cell_type": "markdown",
   "id": "66bcf281-df45-47dd-8974-ad267edb55bb",
   "metadata": {},
   "source": [
    "---"
   ]
  }
 ],
 "metadata": {
  "kernelspec": {
   "display_name": "Python 3",
   "language": "python",
   "name": "python3"
  },
  "language_info": {
   "codemirror_mode": {
    "name": "ipython",
    "version": 3
   },
   "file_extension": ".py",
   "mimetype": "text/x-python",
   "name": "python",
   "nbconvert_exporter": "python",
   "pygments_lexer": "ipython3",
   "version": "3.8.2"
  }
 },
 "nbformat": 4,
 "nbformat_minor": 5
}
