{
 "cells": [
  {
   "cell_type": "markdown",
   "id": "50eb5efb-3372-4498-b51a-fdf4ccee2781",
   "metadata": {},
   "source": [
    "# Day 23: Safe Cracking\n",
    "\n",
    "## Part One\n",
    "\n",
    "This is one of the top floors of the nicest tower in EBHQ. The Easter Bunny's private office is here, complete with a safe hidden behind a painting, and who wouldn't hide a star in a safe behind a painting?\n",
    "\n",
    "The safe has a digital screen and keypad for code entry. A sticky note attached to the safe has a password hint on it: \"eggs\". The painting is of a large rabbit coloring some eggs. You see `7`.\n",
    "\n",
    "When you go to type the code, though, nothing appears on the display; instead, the keypad comes apart in your hands, apparently having been smashed. Behind it is some kind of socket - one that matches a connector in your prototype computer! You pull apart the smashed keypad and extract the logic circuit, plug it into your computer, and plug your computer into the safe.\n",
    "\n",
    "Now, you just need to figure out what output the keypad would have sent to the safe. You extract the assembunny code from the logic chip (your puzzle input).\n",
    "The code looks like it uses almost the same architecture and instruction set that the monorail computer used! You should be able to use the same assembunny interpreter for this as you did there, but with one new instruction:\n",
    "\n",
    "`tgl x` toggles the instruction `x` away (pointing at instructions like `jnz` does: positive means forward; negative means backward):\n",
    "\n",
    "* For one-argument instructions, `inc` becomes `dec`, and all other one-argument instructions become `inc`.\n",
    "\n",
    "* For two-argument instructions, `jnz` becomes `cpy`, and all other two-instructions become `jnz`.\n",
    "\n",
    "* The arguments of a toggled instruction are not affected.\n",
    "\n",
    "* If an attempt is made to toggle an instruction outside the program, nothing happens.\n",
    "\n",
    "* If toggling produces an invalid instruction (like `cpy 1 2`) and an attempt is later made to execute that instruction, skip it instead.\n",
    "\n",
    "* If `tgl` toggles itself (for example, if `a` is `0`, `tgl a` would target itself and become `inc a`), the resulting instruction is not executed until the next time it is reached.\n",
    "\n",
    "For example, given this program:\n",
    "\n",
    "```\n",
    "cpy 2 a\n",
    "tgl a\n",
    "tgl a\n",
    "tgl a\n",
    "cpy 1 a\n",
    "dec a\n",
    "dec a\n",
    "```\n",
    "\n",
    "* `cpy 2 a` initializes register `a` to `2`.\n",
    "\n",
    "* The first `tgl a` toggles an instruction `a` (`2`) away from it, which changes the third `tgl a` into `inc a`.\n",
    "\n",
    "* The second `tgl a` also modifies an instruction `2` away from it, which changes the `cpy 1` a into `jnz 1 a`.\n",
    "\n",
    "* The fourth line, which is now `inc a`, increments `a` to `3`.\n",
    "\n",
    "* Finally, the fifth line, which is now `jnz 1 a`, jumps `a` (`3`) instructions ahead, skipping the `dec a` instructions.\n",
    "\n",
    "In this example, the final value in register `a` is `3`.\n",
    "\n",
    "The rest of the electronics seem to place the keypad entry (the number of eggs, `7`) in register `a`, run the code, and then send the value left in register `a` to the safe.\n",
    "\n",
    "What value should be sent to the safe?\n",
    "\n",
    "---"
   ]
  },
  {
   "cell_type": "code",
   "execution_count": 6,
   "id": "4053708e-dda7-4fdc-8732-5473b222e212",
   "metadata": {},
   "outputs": [],
   "source": [
    "test = \"\"\"cpy 2 a\n",
    "tgl a\n",
    "tgl a\n",
    "tgl a\n",
    "cpy 1 a\n",
    "dec a\n",
    "dec a\"\"\"\n",
    "\n",
    "\n",
    "# Initialise\n",
    "inputs = [i[:-1].split(' ') for i in open('Day23.in').readlines()]\n",
    "# inputs = [i.split(' ') for i in test.split('\\n')]\n",
    "\n",
    "register = {\n",
    "    char: 0 for char in ('a', 'b', 'c', 'd')\n",
    "}\n",
    "\n",
    "register['a'] = 7"
   ]
  },
  {
   "cell_type": "code",
   "execution_count": 7,
   "id": "924115e4-79a4-45e3-b060-05dcbc11c5fa",
   "metadata": {},
   "outputs": [
    {
     "name": "stdout",
     "output_type": "stream",
     "text": [
      "{'a': 0, 'b': 2, 'c': 2, 'd': 2520}\n",
      "The value 11,340 is left in register a.\n"
     ]
    }
   ],
   "source": [
    "# Tweak the code to include tgl\n",
    "def assembunny(reg, cmds, cursor=0):\n",
    "    \"\"\"\n",
    "    Takes a register and commands then parses and runs the commands. It assumes cursor \n",
    "    starts at 0 but may be set as a option.\n",
    "    \n",
    "    :returns: None\n",
    "    \"\"\"\n",
    "    # This function will parse a command (from cmds) at the given cursor position\n",
    "    def parse(cursor):\n",
    "        cmd, x, y, *_ = cmds[cursor] + [None]\n",
    "        if cmd == 'cpy':\n",
    "            if x in reg:\n",
    "                reg[y] = reg[x]\n",
    "            else:\n",
    "                reg[y] = int(x)\n",
    "        elif cmd == 'jnz':\n",
    "            # Put -1 in here because we'll increment the cursor at the end\n",
    "            y = reg[y] if y in reg else int(y)\n",
    "            if delta:= optimise_jnz(reg, cmds[cursor + y:cursor], x):\n",
    "                for char in reg:\n",
    "                    reg[char] += delta[char]\n",
    "            elif x in reg:\n",
    "                cursor += y - 1 if reg[x] else 0\n",
    "            else:\n",
    "                cursor += y - 1 if int(x) else 0\n",
    "        elif cmd == 'tgl':\n",
    "            x = reg[x] if x in reg else int(x)\n",
    "            tgl, a, b, *_ = cmds[cursor + x] + [None]\n",
    "            if b is None:\n",
    "                cmds[cursor + x] = [('dec' if tgl == 'inc' else 'inc'), a]\n",
    "            else:\n",
    "                cmds[cursor + x] = [('cpy' if tgl == 'jnz' else 'jnz'), a, b]\n",
    "        else:\n",
    "            reg[x] += 1 if cmd == 'inc' else -1\n",
    "        return cursor + 1\n",
    "    \n",
    "    cursors = []\n",
    "    high_cursor = 0\n",
    "    \n",
    "    # Run cmds until cursor exceeds len(cmds)\n",
    "    while cursor < len(cmds):\n",
    "#         cursors.append(f\"{cursor}: {str(cmds[cursor]).ljust(18)} {reg}\")\n",
    "#         clear_output(wait=True)\n",
    "#         print(f'highest cursor value: {high_cursor}\\n' + '\\n'.join(cursors))\n",
    "#         time.sleep(0.1)\n",
    "        try:\n",
    "            cursor = parse(cursor)\n",
    "        except:\n",
    "#             print(\"WOOPS\")\n",
    "            cursor += 1\n",
    "        \n",
    "        if not reg['a'] % 10_000:\n",
    "            clear_output(wait=True)\n",
    "            print(reg)\n",
    "#         if len(cursors) > 10:\n",
    "#             cursors = cursors[1:]\n",
    "#         if cursor > high_cursor:\n",
    "#             high_cursor = cursor\n",
    "\n",
    "def optimise_jnz(reg, cmds, jnz_char):\n",
    "    \"\"\"\n",
    "    Given repeating arguments prior to a jnz optimize into one step if possible, else return None\n",
    "    \n",
    "    If possible, return delta as {a: delta_a, ..., d: delta_d}\n",
    "    \"\"\"\n",
    "    if jnz_char not in ('a', 'b', 'c', 'd'):\n",
    "        return None\n",
    "    \n",
    "    delta = {\n",
    "        char: 0 for char in ('a', 'b', 'c', 'd')\n",
    "    }\n",
    "    \n",
    "    if not [cmd for cmd in cmds if cmd[0] in ('tgl', 'jnz', 'cpy')]:\n",
    "        for cmd in cmds:\n",
    "            if cmd[0] == 'inc':\n",
    "                delta[cmd[1]] += 1\n",
    "            else:\n",
    "                delta[cmd[1]] -= 1\n",
    "    \n",
    "        jnz_val = delta[jnz_char]\n",
    "        \n",
    "        return {\n",
    "            char: int(delta[char]*reg[jnz_char]/(-jnz_val)) for char in delta\n",
    "        }\n",
    "        \n",
    "\n",
    "# Run inputs through assumbunny\n",
    "assembunny(register, inputs)\n",
    "\n",
    "# Solution\n",
    "print(f\"The value {register['a']:,} is left in register a.\")"
   ]
  },
  {
   "cell_type": "code",
   "execution_count": 140,
   "id": "201cdeda-5aea-42d0-a4e2-1aa1ca06ab6d",
   "metadata": {},
   "outputs": [
    {
     "data": {
      "text/plain": [
       "{'a': 35, 'b': 0, 'c': -35, 'd': 0}"
      ]
     },
     "execution_count": 140,
     "metadata": {},
     "output_type": "execute_result"
    }
   ],
   "source": [
    "optimise_jnz(register, inputs[5:7], 'c')"
   ]
  },
  {
   "cell_type": "code",
   "execution_count": 136,
   "id": "fe89bf4e-e563-49ad-956c-de69882cb123",
   "metadata": {},
   "outputs": [
    {
     "data": {
      "text/plain": [
       "[['inc', 'a'], ['dec', 'c']]"
      ]
     },
     "execution_count": 136,
     "metadata": {},
     "output_type": "execute_result"
    }
   ],
   "source": [
    "inputs[5:7]"
   ]
  },
  {
   "cell_type": "code",
   "execution_count": 4,
   "id": "96c26d31-24a1-4408-9258-6361d1211fae",
   "metadata": {},
   "outputs": [],
   "source": [
    "from IPython.display import clear_output, display\n",
    "import time"
   ]
  },
  {
   "cell_type": "code",
   "execution_count": 8,
   "id": "4ef0aa87-b676-49a9-9b99-97fcfd9f4662",
   "metadata": {},
   "outputs": [
    {
     "name": "stdout",
     "output_type": "stream",
     "text": [
      "{'a': 479000000, 'b': 2, 'c': 2, 'd': 800}\n",
      "The value 479,007,900 is left in register a.\n"
     ]
    }
   ],
   "source": [
    "# Initialise\n",
    "inputs = [i[:-1].split(' ') for i in open('Day23.in').readlines()]\n",
    "# inputs = [i.split(' ') for i in test.split('\\n')]\n",
    "\n",
    "register = {\n",
    "    char: 0 for char in ('a', 'b', 'c', 'd')\n",
    "}\n",
    "\n",
    "register['a'] = 12\n",
    "\n",
    "# Run inputs through assumbunny\n",
    "assembunny(register, inputs)\n",
    "\n",
    "# Solution\n",
    "print(f\"The value {register['a']:,} is left in register a.\")"
   ]
  },
  {
   "cell_type": "code",
   "execution_count": null,
   "id": "fcde733a-45f2-470f-9ef4-fb31afac1e3b",
   "metadata": {},
   "outputs": [],
   "source": []
  }
 ],
 "metadata": {
  "kernelspec": {
   "display_name": "Python 3",
   "language": "python",
   "name": "python3"
  },
  "language_info": {
   "codemirror_mode": {
    "name": "ipython",
    "version": 3
   },
   "file_extension": ".py",
   "mimetype": "text/x-python",
   "name": "python",
   "nbconvert_exporter": "python",
   "pygments_lexer": "ipython3",
   "version": "3.8.2"
  }
 },
 "nbformat": 4,
 "nbformat_minor": 5
}
